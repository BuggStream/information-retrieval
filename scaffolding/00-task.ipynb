{
 "cells": [
  {
   "cell_type": "markdown",
   "metadata": {},
   "source": [
    "# Scaffolding project\n",
    "\n",
    "_DSAIT4050: Information retrieval lecture, TU Delft_\n",
    "\n",
    "Welcome to the **DSAIT4050: Information retrieval** lecture!\n",
    "\n",
    "This project acts as a gentle introduction to information retrieval for you. You do not need any prior knowledge about IR for this task. Only some Python programming skills are required.\n",
    "\n",
    "## Getting started\n",
    "\n",
    "Under the hood, this notebook uses a library called **PyTerrier**. Please check out the first part of our _Introduction to PyTerrier_ series to learn how to install PyTerrier. However, you do not need to interact with PyTerrier directly for now; rather, we're providing you with simple utility functions you can use. Feel free to have a look how these are implemented, but it's not required.\n",
    "\n",
    "**Task 1**: Install PyTerrier (see the `01-setup.ipynb` notebook).\n",
    "\n",
    "Now you should be able to import the utility functions. A dataset will be downloaded and indexed automatically (this will take a minute).\n"
   ]
  },
  {
   "cell_type": "code",
   "metadata": {
    "ExecuteTime": {
     "end_time": "2025-02-26T13:27:32.152873Z",
     "start_time": "2025-02-26T13:27:02.914995Z"
    }
   },
   "source": [
    "from util import search, evaluate, evaluate_all"
   ],
   "outputs": [
    {
     "name": "stderr",
     "output_type": "stream",
     "text": [
      "Java started (triggered by TerrierIndexer.__init__) and loaded: pyterrier.java, pyterrier.terrier.java [version=5.11 (build: craig.macdonald 2025-01-13 21:29), helper_version=0.0.8]\n",
      "antique/test/non-offensive documents: 100%|██████████| 403666/403666 [00:28<00:00, 14140.98it/s]\n"
     ]
    }
   ],
   "execution_count": 1
  },
  {
   "cell_type": "markdown",
   "metadata": {},
   "source": [
    "Now that we have loaded the data, you can run search queries. For example:\n"
   ]
  },
  {
   "cell_type": "code",
   "metadata": {
    "ExecuteTime": {
     "end_time": "2025-02-26T13:27:32.242732Z",
     "start_time": "2025-02-26T13:27:32.168221Z"
    }
   },
   "source": [
    "search(\"what is the meaning of life\")"
   ],
   "outputs": [
    {
     "name": "stdout",
     "output_type": "stream",
     "text": [
      "14:27:32.180 [main] WARN org.terrier.querying.ApplyTermPipeline -- The index has no termpipelines configuration, and no control configuration is found. Defaulting to global termpipelines configuration of ''. Set a termpipelines control to remove this warning.\n"
     ]
    },
    {
     "data": {
      "text/plain": [
       "  qid   docid       docno                                               text  \\\n",
       "0   1  284036    327334_2  If life did not suck sometime it would not be ...   \n",
       "1   1   24563    514843_5  To live until we die,and have a meaningful. li...   \n",
       "2   1  183199  3286609_30          To make my mom and dad's life meaningful.   \n",
       "3   1  338875   1977360_8        Change it to \" What makes life meaningful?\"   \n",
       "4   1  146534    422602_7  to have a meaningful life or a life of meaning...   \n",
       "5   1   37272   3770850_1  Oh... I get it.... \"thes\"?. . Thes. is the abb...   \n",
       "6   1  142099   3352535_8                         whats the purpose of life?   \n",
       "7   1  169083  2534143_13                       whats life with no exitment!   \n",
       "8   1  338872   1977360_5  Perhaps \"what can you do to make your life mor...   \n",
       "9   1  104996   4351526_3  the meaning of life is whatever you ascribe to...   \n",
       "\n",
       "   rank      score                        query  \n",
       "0     0  25.241914  what is the meaning of life  \n",
       "1     1  24.428920  what is the meaning of life  \n",
       "2     2  24.428920  what is the meaning of life  \n",
       "3     3  24.428920  what is the meaning of life  \n",
       "4     4  22.001176  what is the meaning of life  \n",
       "5     5  21.882860  what is the meaning of life  \n",
       "6     6  21.260102  what is the meaning of life  \n",
       "7     7  21.260102  what is the meaning of life  \n",
       "8     8  21.040540  what is the meaning of life  \n",
       "9     9  19.934543  what is the meaning of life  "
      ],
      "text/html": [
       "<div>\n",
       "<style scoped>\n",
       "    .dataframe tbody tr th:only-of-type {\n",
       "        vertical-align: middle;\n",
       "    }\n",
       "\n",
       "    .dataframe tbody tr th {\n",
       "        vertical-align: top;\n",
       "    }\n",
       "\n",
       "    .dataframe thead th {\n",
       "        text-align: right;\n",
       "    }\n",
       "</style>\n",
       "<table border=\"1\" class=\"dataframe\">\n",
       "  <thead>\n",
       "    <tr style=\"text-align: right;\">\n",
       "      <th></th>\n",
       "      <th>qid</th>\n",
       "      <th>docid</th>\n",
       "      <th>docno</th>\n",
       "      <th>text</th>\n",
       "      <th>rank</th>\n",
       "      <th>score</th>\n",
       "      <th>query</th>\n",
       "    </tr>\n",
       "  </thead>\n",
       "  <tbody>\n",
       "    <tr>\n",
       "      <th>0</th>\n",
       "      <td>1</td>\n",
       "      <td>284036</td>\n",
       "      <td>327334_2</td>\n",
       "      <td>If life did not suck sometime it would not be ...</td>\n",
       "      <td>0</td>\n",
       "      <td>25.241914</td>\n",
       "      <td>what is the meaning of life</td>\n",
       "    </tr>\n",
       "    <tr>\n",
       "      <th>1</th>\n",
       "      <td>1</td>\n",
       "      <td>24563</td>\n",
       "      <td>514843_5</td>\n",
       "      <td>To live until we die,and have a meaningful. li...</td>\n",
       "      <td>1</td>\n",
       "      <td>24.428920</td>\n",
       "      <td>what is the meaning of life</td>\n",
       "    </tr>\n",
       "    <tr>\n",
       "      <th>2</th>\n",
       "      <td>1</td>\n",
       "      <td>183199</td>\n",
       "      <td>3286609_30</td>\n",
       "      <td>To make my mom and dad's life meaningful.</td>\n",
       "      <td>2</td>\n",
       "      <td>24.428920</td>\n",
       "      <td>what is the meaning of life</td>\n",
       "    </tr>\n",
       "    <tr>\n",
       "      <th>3</th>\n",
       "      <td>1</td>\n",
       "      <td>338875</td>\n",
       "      <td>1977360_8</td>\n",
       "      <td>Change it to \" What makes life meaningful?\"</td>\n",
       "      <td>3</td>\n",
       "      <td>24.428920</td>\n",
       "      <td>what is the meaning of life</td>\n",
       "    </tr>\n",
       "    <tr>\n",
       "      <th>4</th>\n",
       "      <td>1</td>\n",
       "      <td>146534</td>\n",
       "      <td>422602_7</td>\n",
       "      <td>to have a meaningful life or a life of meaning...</td>\n",
       "      <td>4</td>\n",
       "      <td>22.001176</td>\n",
       "      <td>what is the meaning of life</td>\n",
       "    </tr>\n",
       "    <tr>\n",
       "      <th>5</th>\n",
       "      <td>1</td>\n",
       "      <td>37272</td>\n",
       "      <td>3770850_1</td>\n",
       "      <td>Oh... I get it.... \"thes\"?. . Thes. is the abb...</td>\n",
       "      <td>5</td>\n",
       "      <td>21.882860</td>\n",
       "      <td>what is the meaning of life</td>\n",
       "    </tr>\n",
       "    <tr>\n",
       "      <th>6</th>\n",
       "      <td>1</td>\n",
       "      <td>142099</td>\n",
       "      <td>3352535_8</td>\n",
       "      <td>whats the purpose of life?</td>\n",
       "      <td>6</td>\n",
       "      <td>21.260102</td>\n",
       "      <td>what is the meaning of life</td>\n",
       "    </tr>\n",
       "    <tr>\n",
       "      <th>7</th>\n",
       "      <td>1</td>\n",
       "      <td>169083</td>\n",
       "      <td>2534143_13</td>\n",
       "      <td>whats life with no exitment!</td>\n",
       "      <td>7</td>\n",
       "      <td>21.260102</td>\n",
       "      <td>what is the meaning of life</td>\n",
       "    </tr>\n",
       "    <tr>\n",
       "      <th>8</th>\n",
       "      <td>1</td>\n",
       "      <td>338872</td>\n",
       "      <td>1977360_5</td>\n",
       "      <td>Perhaps \"what can you do to make your life mor...</td>\n",
       "      <td>8</td>\n",
       "      <td>21.040540</td>\n",
       "      <td>what is the meaning of life</td>\n",
       "    </tr>\n",
       "    <tr>\n",
       "      <th>9</th>\n",
       "      <td>1</td>\n",
       "      <td>104996</td>\n",
       "      <td>4351526_3</td>\n",
       "      <td>the meaning of life is whatever you ascribe to...</td>\n",
       "      <td>9</td>\n",
       "      <td>19.934543</td>\n",
       "      <td>what is the meaning of life</td>\n",
       "    </tr>\n",
       "  </tbody>\n",
       "</table>\n",
       "</div>"
      ]
     },
     "execution_count": 2,
     "metadata": {},
     "output_type": "execute_result"
    }
   ],
   "execution_count": 2
  },
  {
   "cell_type": "markdown",
   "metadata": {},
   "source": [
    "What you get here is a list of ten documents from the corpus that are ordered by how relevant they are to our query (according to the search engine).\n",
    "\n",
    "## Query rewriting\n",
    "\n",
    "The goal of this task is to come up with a way of **rewriting queries** such that the search engine can \"understand\" them better.\n",
    "\n",
    "In order to do this, let's first take a look at some example queries from our dataset. We represent these queries using a `pandas.DataFrame`, where the first column corresponds to the **query ID** and the second column corresponds to the **query**:\n"
   ]
  },
  {
   "cell_type": "code",
   "metadata": {
    "ExecuteTime": {
     "end_time": "2025-02-26T13:55:35.855073Z",
     "start_time": "2025-02-26T13:55:35.852850Z"
    }
   },
   "source": [
    "from scaffolding.util import DATASET\n",
    "import pandas as pd\n",
    "\n",
    "example_queries = pd.DataFrame(\n",
    "    [\n",
    "        [\n",
    "            \"443848\",\n",
    "            \"does anybody know where i could get a free guide on how to train a siberian husky\",\n",
    "        ],\n",
    "        [\n",
    "            \"1783010\",\n",
    "            \"what is blaphsemy\",\n",
    "        ],\n",
    "        [\n",
    "            \"2838988\",\n",
    "            \"how can i get a cork out of not into a wine bottle without a corkscrew\",\n",
    "        ],\n",
    "    ],\n",
    "    columns=[\"qid\", \"query\"],\n",
    ")"
   ],
   "outputs": [],
   "execution_count": 58
  },
  {
   "cell_type": "markdown",
   "metadata": {},
   "source": [
    "Since these queries are taken from the dataset, we can **evaluate the performance** of our search engine on these queries. This means that we know which documents the system should retrieve for each query.\n",
    "\n",
    "You can use the following evaluation function to do this. This function takes your queries and returns a score (mean average precision -- you will learn about this later). For now, all you need to know is that, the higher this score, the better the system works.\n",
    "\n",
    "Let's evaluate the queries we have:\n"
   ]
  },
  {
   "cell_type": "code",
   "metadata": {
    "ExecuteTime": {
     "end_time": "2025-02-26T13:55:37.069081Z",
     "start_time": "2025-02-26T13:55:37.023140Z"
    }
   },
   "source": [
    "print(\"score:\", evaluate(example_queries))"
   ],
   "outputs": [
    {
     "name": "stdout",
     "output_type": "stream",
     "text": [
      "score: 0.07906002902973568\n"
     ]
    }
   ],
   "execution_count": 59
  },
  {
   "cell_type": "markdown",
   "metadata": {},
   "source": [
    "Now it's up to you to figure out if and how it's possible to make the search engine perform better on these queries. How would you query a search engine if you wanted to know about these topics? Experiment a bit.\n",
    "\n",
    "**Task 2**: Try to manually come up with ways to rewrite or reformulate the queries so the performance improves.\n",
    "\n",
    "**Important**: Make sure that the query IDs match! Otherwise, evaluation will not work.\n"
   ]
  },
  {
   "cell_type": "code",
   "metadata": {
    "ExecuteTime": {
     "end_time": "2025-02-26T13:55:41.846288Z",
     "start_time": "2025-02-26T13:55:41.803813Z"
    }
   },
   "source": [
    "example_queries_rewritten = pd.DataFrame(\n",
    "    [\n",
    "        [\n",
    "            \"443848\",\n",
    "            \"guide train siberian husky dog\",\n",
    "        ],\n",
    "        [\n",
    "            \"1783010\",\n",
    "            \"what is blasphemy meaning definition\",\n",
    "        ],\n",
    "        [\n",
    "            \"2838988\",\n",
    "            \"remove get cork from wine bottle without corkscrew\",\n",
    "        ],\n",
    "    ],\n",
    "    columns=[\"qid\", \"query\"],\n",
    ")\n",
    "\n",
    "\n",
    "\n",
    "print(\"score after rewriting:\", evaluate(example_queries_rewritten))"
   ],
   "outputs": [
    {
     "name": "stdout",
     "output_type": "stream",
     "text": [
      "score after rewriting: 0.09455069687567615\n"
     ]
    }
   ],
   "execution_count": 60
  },
  {
   "cell_type": "markdown",
   "metadata": {},
   "source": [
    "# An automatic approach\n",
    "\n",
    "In this last part, we'll try to come up with an automatic approach to perform query re-writing. Use your findings from task 2 for this.\n",
    "\n",
    "**Task 3**: Implement a function that automatically re-writes any input query.\n",
    "\n",
    "You can use any approach or library you want for this task. However, keep in mind that simple ideas often work well!\n"
   ]
  },
  {
   "cell_type": "code",
   "execution_count": 6,
   "metadata": {},
   "outputs": [],
   "source": [
    "def rewrite_query(query: str) -> str:\n",
    "    # TODO: rewrite the query here\n",
    "    return query"
   ]
  },
  {
   "cell_type": "markdown",
   "metadata": {},
   "source": [
    "This time, we'll evalute on _all_ queries in the dataset. This will give us a more general result:\n"
   ]
  },
  {
   "cell_type": "code",
   "execution_count": null,
   "metadata": {},
   "outputs": [],
   "source": [
    "print(\"score:\", evaluate_all())"
   ]
  },
  {
   "cell_type": "markdown",
   "metadata": {},
   "source": [
    "Are you able to improve the overall performance using your rewriting approach?\n"
   ]
  },
  {
   "cell_type": "code",
   "execution_count": null,
   "metadata": {},
   "outputs": [],
   "source": [
    "print(\"score after rewriting\", evaluate_all(rewrite_query))"
   ]
  }
 ],
 "metadata": {
  "kernelspec": {
   "display_name": "pt",
   "language": "python",
   "name": "python3"
  },
  "language_info": {
   "codemirror_mode": {
    "name": "ipython",
    "version": 3
   },
   "file_extension": ".py",
   "mimetype": "text/x-python",
   "name": "python",
   "nbconvert_exporter": "python",
   "pygments_lexer": "ipython3",
   "version": "3.11.7"
  }
 },
 "nbformat": 4,
 "nbformat_minor": 2
}
