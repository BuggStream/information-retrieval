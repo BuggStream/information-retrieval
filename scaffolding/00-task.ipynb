{
 "cells": [
  {
   "cell_type": "markdown",
   "metadata": {},
   "source": [
    "# Scaffolding project\n",
    "\n",
    "_DSAIT4050: Information retrieval lecture, TU Delft_\n",
    "\n",
    "Welcome to the **DSAIT4050: Information retrieval** lecture!\n",
    "\n",
    "This project acts as a gentle introduction to information retrieval for you. You do not need any prior knowledge about IR for this task. Only some Python programming skills are required.\n",
    "\n",
    "## Getting started\n",
    "\n",
    "Under the hood, this notebook uses a library called **PyTerrier**. Please check out the first part of our _Introduction to PyTerrier_ series to learn how to install PyTerrier. However, you do not need to interact with PyTerrier directly for now; rather, we're providing you with simple utility functions you can use. Feel free to have a look how these are implemented, but it's not required.\n",
    "\n",
    "**Task 1**: Install PyTerrier (see the `01-setup.ipynb` notebook).\n",
    "\n",
    "Now you should be able to import the utility functions. A dataset will be downloaded and indexed automatically (this will take a minute).\n"
   ]
  },
  {
   "cell_type": "code",
   "metadata": {
    "ExecuteTime": {
     "end_time": "2025-02-28T12:30:56.889425Z",
     "start_time": "2025-02-28T12:30:56.887356Z"
    }
   },
   "source": "from util import search, evaluate, evaluate_all",
   "outputs": [],
   "execution_count": 11
  },
  {
   "cell_type": "markdown",
   "metadata": {},
   "source": [
    "Now that we have loaded the data, you can run search queries. For example:\n"
   ]
  },
  {
   "cell_type": "code",
   "metadata": {
    "ExecuteTime": {
     "end_time": "2025-02-28T12:28:55.152306Z",
     "start_time": "2025-02-28T12:28:55.059961Z"
    }
   },
   "source": [
    "search(\"what is the meaning of life\")"
   ],
   "outputs": [
    {
     "name": "stdout",
     "output_type": "stream",
     "text": [
      "13:28:55.080 [main] WARN org.terrier.querying.ApplyTermPipeline -- The index has no termpipelines configuration, and no control configuration is found. Defaulting to global termpipelines configuration of ''. Set a termpipelines control to remove this warning.\n"
     ]
    },
    {
     "data": {
      "text/plain": [
       "  qid   docid       docno                                               text  \\\n",
       "0   1  284036    327334_2  If life did not suck sometime it would not be ...   \n",
       "1   1   24563    514843_5  To live until we die,and have a meaningful. li...   \n",
       "2   1  183199  3286609_30          To make my mom and dad's life meaningful.   \n",
       "3   1  338875   1977360_8        Change it to \" What makes life meaningful?\"   \n",
       "4   1  146534    422602_7  to have a meaningful life or a life of meaning...   \n",
       "5   1   37272   3770850_1  Oh... I get it.... \"thes\"?. . Thes. is the abb...   \n",
       "6   1  142099   3352535_8                         whats the purpose of life?   \n",
       "7   1  169083  2534143_13                       whats life with no exitment!   \n",
       "8   1  338872   1977360_5  Perhaps \"what can you do to make your life mor...   \n",
       "9   1  104996   4351526_3  the meaning of life is whatever you ascribe to...   \n",
       "\n",
       "   rank      score                        query  \n",
       "0     0  25.241914  what is the meaning of life  \n",
       "1     1  24.428920  what is the meaning of life  \n",
       "2     2  24.428920  what is the meaning of life  \n",
       "3     3  24.428920  what is the meaning of life  \n",
       "4     4  22.001176  what is the meaning of life  \n",
       "5     5  21.882860  what is the meaning of life  \n",
       "6     6  21.260102  what is the meaning of life  \n",
       "7     7  21.260102  what is the meaning of life  \n",
       "8     8  21.040540  what is the meaning of life  \n",
       "9     9  19.934543  what is the meaning of life  "
      ],
      "text/html": [
       "<div>\n",
       "<style scoped>\n",
       "    .dataframe tbody tr th:only-of-type {\n",
       "        vertical-align: middle;\n",
       "    }\n",
       "\n",
       "    .dataframe tbody tr th {\n",
       "        vertical-align: top;\n",
       "    }\n",
       "\n",
       "    .dataframe thead th {\n",
       "        text-align: right;\n",
       "    }\n",
       "</style>\n",
       "<table border=\"1\" class=\"dataframe\">\n",
       "  <thead>\n",
       "    <tr style=\"text-align: right;\">\n",
       "      <th></th>\n",
       "      <th>qid</th>\n",
       "      <th>docid</th>\n",
       "      <th>docno</th>\n",
       "      <th>text</th>\n",
       "      <th>rank</th>\n",
       "      <th>score</th>\n",
       "      <th>query</th>\n",
       "    </tr>\n",
       "  </thead>\n",
       "  <tbody>\n",
       "    <tr>\n",
       "      <th>0</th>\n",
       "      <td>1</td>\n",
       "      <td>284036</td>\n",
       "      <td>327334_2</td>\n",
       "      <td>If life did not suck sometime it would not be ...</td>\n",
       "      <td>0</td>\n",
       "      <td>25.241914</td>\n",
       "      <td>what is the meaning of life</td>\n",
       "    </tr>\n",
       "    <tr>\n",
       "      <th>1</th>\n",
       "      <td>1</td>\n",
       "      <td>24563</td>\n",
       "      <td>514843_5</td>\n",
       "      <td>To live until we die,and have a meaningful. li...</td>\n",
       "      <td>1</td>\n",
       "      <td>24.428920</td>\n",
       "      <td>what is the meaning of life</td>\n",
       "    </tr>\n",
       "    <tr>\n",
       "      <th>2</th>\n",
       "      <td>1</td>\n",
       "      <td>183199</td>\n",
       "      <td>3286609_30</td>\n",
       "      <td>To make my mom and dad's life meaningful.</td>\n",
       "      <td>2</td>\n",
       "      <td>24.428920</td>\n",
       "      <td>what is the meaning of life</td>\n",
       "    </tr>\n",
       "    <tr>\n",
       "      <th>3</th>\n",
       "      <td>1</td>\n",
       "      <td>338875</td>\n",
       "      <td>1977360_8</td>\n",
       "      <td>Change it to \" What makes life meaningful?\"</td>\n",
       "      <td>3</td>\n",
       "      <td>24.428920</td>\n",
       "      <td>what is the meaning of life</td>\n",
       "    </tr>\n",
       "    <tr>\n",
       "      <th>4</th>\n",
       "      <td>1</td>\n",
       "      <td>146534</td>\n",
       "      <td>422602_7</td>\n",
       "      <td>to have a meaningful life or a life of meaning...</td>\n",
       "      <td>4</td>\n",
       "      <td>22.001176</td>\n",
       "      <td>what is the meaning of life</td>\n",
       "    </tr>\n",
       "    <tr>\n",
       "      <th>5</th>\n",
       "      <td>1</td>\n",
       "      <td>37272</td>\n",
       "      <td>3770850_1</td>\n",
       "      <td>Oh... I get it.... \"thes\"?. . Thes. is the abb...</td>\n",
       "      <td>5</td>\n",
       "      <td>21.882860</td>\n",
       "      <td>what is the meaning of life</td>\n",
       "    </tr>\n",
       "    <tr>\n",
       "      <th>6</th>\n",
       "      <td>1</td>\n",
       "      <td>142099</td>\n",
       "      <td>3352535_8</td>\n",
       "      <td>whats the purpose of life?</td>\n",
       "      <td>6</td>\n",
       "      <td>21.260102</td>\n",
       "      <td>what is the meaning of life</td>\n",
       "    </tr>\n",
       "    <tr>\n",
       "      <th>7</th>\n",
       "      <td>1</td>\n",
       "      <td>169083</td>\n",
       "      <td>2534143_13</td>\n",
       "      <td>whats life with no exitment!</td>\n",
       "      <td>7</td>\n",
       "      <td>21.260102</td>\n",
       "      <td>what is the meaning of life</td>\n",
       "    </tr>\n",
       "    <tr>\n",
       "      <th>8</th>\n",
       "      <td>1</td>\n",
       "      <td>338872</td>\n",
       "      <td>1977360_5</td>\n",
       "      <td>Perhaps \"what can you do to make your life mor...</td>\n",
       "      <td>8</td>\n",
       "      <td>21.040540</td>\n",
       "      <td>what is the meaning of life</td>\n",
       "    </tr>\n",
       "    <tr>\n",
       "      <th>9</th>\n",
       "      <td>1</td>\n",
       "      <td>104996</td>\n",
       "      <td>4351526_3</td>\n",
       "      <td>the meaning of life is whatever you ascribe to...</td>\n",
       "      <td>9</td>\n",
       "      <td>19.934543</td>\n",
       "      <td>what is the meaning of life</td>\n",
       "    </tr>\n",
       "  </tbody>\n",
       "</table>\n",
       "</div>"
      ]
     },
     "execution_count": 6,
     "metadata": {},
     "output_type": "execute_result"
    }
   ],
   "execution_count": 6
  },
  {
   "cell_type": "markdown",
   "metadata": {},
   "source": [
    "What you get here is a list of ten documents from the corpus that are ordered by how relevant they are to our query (according to the search engine).\n",
    "\n",
    "## Query rewriting\n",
    "\n",
    "The goal of this task is to come up with a way of **rewriting queries** such that the search engine can \"understand\" them better.\n",
    "\n",
    "In order to do this, let's first take a look at some example queries from our dataset. We represent these queries using a `pandas.DataFrame`, where the first column corresponds to the **query ID** and the second column corresponds to the **query**:\n"
   ]
  },
  {
   "cell_type": "code",
   "metadata": {
    "ExecuteTime": {
     "end_time": "2025-02-28T12:29:30.679117Z",
     "start_time": "2025-02-28T12:28:55.164953Z"
    }
   },
   "source": [
    "from scaffolding.util import DATASET\n",
    "import pandas as pd\n",
    "\n",
    "example_queries = pd.DataFrame(\n",
    "    [\n",
    "        [\n",
    "            \"443848\",\n",
    "            \"does anybody know where i could get a free guide on how to train a siberian husky\",\n",
    "        ],\n",
    "        [\n",
    "            \"1783010\",\n",
    "            \"what is blaphsemy\",\n",
    "        ],\n",
    "        [\n",
    "            \"2838988\",\n",
    "            \"how can i get a cork out of not into a wine bottle without a corkscrew\",\n",
    "        ],\n",
    "    ],\n",
    "    columns=[\"qid\", \"query\"],\n",
    ")"
   ],
   "outputs": [
    {
     "name": "stderr",
     "output_type": "stream",
     "text": [
      "antique/test/non-offensive documents: 100%|██████████| 403666/403666 [00:35<00:00, 11382.04it/s]\n"
     ]
    }
   ],
   "execution_count": 7
  },
  {
   "cell_type": "markdown",
   "metadata": {},
   "source": [
    "Since these queries are taken from the dataset, we can **evaluate the performance** of our search engine on these queries. This means that we know which documents the system should retrieve for each query.\n",
    "\n",
    "You can use the following evaluation function to do this. This function takes your queries and returns a score (mean average precision -- you will learn about this later). For now, all you need to know is that, the higher this score, the better the system works.\n",
    "\n",
    "Let's evaluate the queries we have:\n"
   ]
  },
  {
   "cell_type": "code",
   "metadata": {
    "ExecuteTime": {
     "end_time": "2025-02-28T12:29:31.246515Z",
     "start_time": "2025-02-28T12:29:30.695074Z"
    }
   },
   "source": [
    "print(\"score:\", evaluate(example_queries))"
   ],
   "outputs": [
    {
     "name": "stdout",
     "output_type": "stream",
     "text": [
      "score: 0.07906002902973568\n"
     ]
    }
   ],
   "execution_count": 8
  },
  {
   "cell_type": "markdown",
   "metadata": {},
   "source": [
    "Now it's up to you to figure out if and how it's possible to make the search engine perform better on these queries. How would you query a search engine if you wanted to know about these topics? Experiment a bit.\n",
    "\n",
    "**Task 2**: Try to manually come up with ways to rewrite or reformulate the queries so the performance improves.\n",
    "\n",
    "**Important**: Make sure that the query IDs match! Otherwise, evaluation will not work.\n"
   ]
  },
  {
   "cell_type": "code",
   "metadata": {
    "ExecuteTime": {
     "end_time": "2025-02-28T12:29:31.541028Z",
     "start_time": "2025-02-28T12:29:31.292597Z"
    }
   },
   "source": [
    "example_queries_rewritten = pd.DataFrame(\n",
    "    [\n",
    "        [\n",
    "            \"443848\",\n",
    "            \"guide train siberian husky dog\",\n",
    "        ],\n",
    "        [\n",
    "            \"1783010\",\n",
    "            \"what is blasphemi\",\n",
    "        ],\n",
    "        [\n",
    "            \"2838988\",\n",
    "            \"remove get cork from wine bottle without corkscrew\",\n",
    "        ],\n",
    "    ],\n",
    "    columns=[\"qid\", \"query\"],\n",
    ")\n",
    "\n",
    "print(\"score after rewriting:\", evaluate(example_queries_rewritten))"
   ],
   "outputs": [
    {
     "name": "stdout",
     "output_type": "stream",
     "text": [
      "score after rewriting: 0.11060433045979755\n"
     ]
    }
   ],
   "execution_count": 9
  },
  {
   "cell_type": "markdown",
   "metadata": {},
   "source": [
    "# An automatic approach\n",
    "\n",
    "In this last part, we'll try to come up with an automatic approach to perform query re-writing. Use your findings from task 2 for this.\n",
    "\n",
    "**Task 3**: Implement a function that automatically re-writes any input query.\n",
    "\n",
    "You can use any approach or library you want for this task. However, keep in mind that simple ideas often work well!\n"
   ]
  },
  {
   "cell_type": "code",
   "metadata": {
    "ExecuteTime": {
     "end_time": "2025-02-28T16:25:08.666950Z",
     "start_time": "2025-02-28T16:25:06.251605Z"
    }
   },
   "source": [
    "import re\n",
    "import nltk\n",
    "import pyterrier as pt\n",
    "import pkg_resources\n",
    "from symspellpy import SymSpell, Verbosity\n",
    "from nltk.stem.snowball import SnowballStemmer\n",
    "\n",
    "nltk.download('stopwords')\n",
    "\n",
    "sym_spell = SymSpell(max_dictionary_edit_distance=2, prefix_length=7)\n",
    "dictionary_path = pkg_resources.resource_filename(\n",
    "    \"symspellpy\", \"frequency_dictionary_en_82_765.txt\"\n",
    ")\n",
    "sym_spell.load_dictionary(dictionary_path, 0, 1)\n",
    "dictionary_path = pkg_resources.resource_filename(\n",
    "    \"symspellpy\", \"frequency_bigramdictionary_en_243_342.txt\"\n",
    ")\n",
    "sym_spell.load_bigram_dictionary(dictionary_path, 0, 2)\n",
    "\n",
    "stemmer = SnowballStemmer(\"english\", ignore_stopwords=True)\n",
    "\n",
    "tokenizer = pt.java.autoclass(\"org.terrier.indexing.tokenisation.Tokeniser\").getTokeniser()\n",
    "\n",
    "\n",
    "def fix_not_apostrophe(query: str) -> str:\n",
    "    return re.sub(\n",
    "        pattern=r'n t ',\n",
    "        repl='nt ',\n",
    "        string=query\n",
    "    )\n",
    "\n",
    "\n",
    "def rewrite_query(query: str) -> str:\n",
    "    fixed = fix_not_apostrophe(query)\n",
    "    spellchecked_words = []\n",
    "\n",
    "    for word in fixed.split():\n",
    "        if len(word) < 3:\n",
    "            spellchecked_words.append(word)\n",
    "        else:\n",
    "            suggestions = sym_spell.lookup(word, Verbosity.ALL, max_edit_distance=2)\n",
    "            added = 0\n",
    "\n",
    "            for i in range(min(2, len(suggestions))):\n",
    "                if suggestions[i].term == word:\n",
    "                    spellchecked_words.append(word)\n",
    "                    added += 1\n",
    "                    break\n",
    "                if suggestions[i].term.find(\"'\") != -1:\n",
    "                    suggestions[i].term.replace(\"'\", \"\")\n",
    "                    added += 1\n",
    "                    continue\n",
    "                spellchecked_words.append(suggestions[i].term)\n",
    "                added += 1\n",
    "\n",
    "            if added == 0:\n",
    "                spellchecked_words.append(word)\n",
    "\n",
    "    stemmed_words = [stemmer.stem(word) for word in spellchecked_words]\n",
    "\n",
    "    improved_query = \" \".join(stemmed_words)\n",
    "\n",
    "    # suggestions = sym_spell.lookup_compound(fixed, ignore_non_words=True, max_edit_distance=2)\n",
    "    # spellchecked_query = suggestions[0].term\n",
    "    print(f\"{query} -> {fixed} -> {improved_query}\")\n",
    "\n",
    "    return improved_query"
   ],
   "outputs": [
    {
     "name": "stderr",
     "output_type": "stream",
     "text": [
      "[nltk_data] Downloading package stopwords to /home/jim/nltk_data...\n",
      "[nltk_data]   Package stopwords is already up-to-date!\n"
     ]
    }
   ],
   "execution_count": 121
  },
  {
   "cell_type": "markdown",
   "metadata": {},
   "source": [
    "This time, we'll evalute on _all_ queries in the dataset. This will give us a more general result:\n"
   ]
  },
  {
   "cell_type": "code",
   "metadata": {
    "ExecuteTime": {
     "end_time": "2025-02-28T13:52:59.040213Z",
     "start_time": "2025-02-28T13:52:56.949999Z"
    }
   },
   "source": [
    "print(\"score:\", evaluate_all())"
   ],
   "outputs": [
    {
     "name": "stdout",
     "output_type": "stream",
     "text": [
      "score: 0.06179994498738492\n"
     ]
    }
   ],
   "execution_count": 57
  },
  {
   "cell_type": "markdown",
   "metadata": {},
   "source": [
    "Are you able to improve the overall performance using your rewriting approach?\n"
   ]
  },
  {
   "metadata": {
    "ExecuteTime": {
     "end_time": "2025-02-28T16:25:13.031232Z",
     "start_time": "2025-02-28T16:25:09.976508Z"
    }
   },
   "cell_type": "code",
   "source": "print(\"score after rewriting\", evaluate_all(rewrite_query))",
   "outputs": [
    {
     "name": "stdout",
     "output_type": "stream",
     "text": [
      "how can we get concentration onsomething -> how can we get concentration onsomething -> how can we get concentr someth\n",
      "why doesn t the water fall off earth if it s round -> why doesnt the water fall off earth if it s round -> why does the water fall off earth if it s round\n",
      "how do i determine the charge of the iron ion in fecl3 -> how do i determine the charge of the iron ion in fecl3 -> how do i determin the charg of the iron ion in feel felt\n",
      "i have mice how do i get rid of them humanely -> i have mice how do i get rid of them humanely -> i have mice how do i get rid of them human\n",
      "what does see leaflet mean on ept pregnancy test -> what does see leaflet mean on ept pregnancy test -> what does see leaflet mean on est pet pregnanc test\n",
      "what is innate immunity -> what is innate immunity -> what is innat immun\n",
      "how can i lose 30 pounds by june3 -> how can i lose 30 pounds by june3 -> how can i lose 30 pound by june june\n",
      "what are the words to write the sound of raindrops moving train scribbling w pencil on paper figuratively -> what are the words to write the sound of raindrops moving train scribbling w pencil on paper figuratively -> what are the word to write the sound of raindrop move train scribbl w pencil on paper figur\n",
      "why must i have an uncracked winshield in order to for my car to pass a safety inspeciton -> why must i have an uncracked winshield in order to for my car to pass a safety inspeciton -> why must i have an crack uncheck windshield winfield in order to for my car to pass a safeti inspect inspector\n",
      "what is blaphsemy -> what is blaphsemy -> what is blasphemi\n",
      "what s the proper way to express sorrow at a funeral -> what s the proper way to express sorrow at a funeral -> what s the proper way to express sorrow at a funer\n",
      "what do you speculate happened to natalie holloway in aruba -> what do you speculate happened to natalie holloway in aruba -> what do you specul happen to natali holloway in aruba\n",
      "how do people get hiccups what are they and what exactly is the best way to cure them -> how do people get hiccups what are they and what exactly is the best way to cure them -> how do peopl get hiccup what are they and what exact is the best way to cure them\n",
      "why do our elected federal senators and congressmen not have to live on regular s s like the rest of us -> why do our elected federal senators and congressmen not have to live on regular s s like the rest of us -> why do our elect feder senat and congressmen not have to live on regular s s like the rest of us\n",
      "why do people judge a dog by what he looks like -> why do people judge a dog by what he looks like -> why do peopl judg a dog by what he look like\n",
      "what does the word remission mean when referring to cancer patients -> what does the word remission mean when referring to cancer patients -> what does the word remiss mean when refer to cancer patient\n",
      "how patient a driver are you -> how patient a driver are you -> how patient a driver are you\n",
      "how is ego a part of our survival instincts -> how is ego a part of our survival instincts -> how is ego a part of our surviv instinct\n",
      "why do cats headbutt -> why do cats headbutt -> why do cat headbutt\n",
      "how to cook angus burgers -> how to cook angus burgers -> how to cook angus burger\n",
      "why do people ask questions they know -> why do people ask questions they know -> why do peopl ask question they know\n",
      "what is the difference between coolant and anti freeze -> what is the difference between coolant and anti freeze -> what is the differ between coolant and anti freez\n",
      "why is yawning contagious -> why is yawning contagious -> why is yawn contagi\n",
      "why does milk cost more than gas per gallon -> why does milk cost more than gas per gallon -> why does milk cost more than gas per gallon\n",
      "how do crooks make fake passports -> how do crooks make fake passports -> how do crook make fake passport\n",
      "i have had loose stools for a week how do i make it stop -> i have had loose stools for a week how do i make it stop -> i have had loos stool for a week how do i make it stop\n",
      "why some people behave so rude without reason is it due to their own problem -> why some people behave so rude without reason is it due to their own problem -> why some peopl behav so rude without reason is it due to their own problem\n",
      "how can i enjoy my time alone -> how can i enjoy my time alone -> how can i enjoy my time alon\n",
      "how to make my car faster -> how to make my car faster -> how to make my car faster\n",
      "what is the difference in a dried plum and a dried prune -> what is the difference in a dried plum and a dried prune -> what is the differ in a dri plum and a dri prune\n",
      "how do i know if my gold fish is pregnant -> how do i know if my gold fish is pregnant -> how do i know if my gold fish is pregnant\n",
      "why do people drink cuervo when it tastes the same going down as coming up -> why do people drink cuervo when it tastes the same going down as coming up -> why do peopl drink puerto curv when it tast the same go down as come up\n",
      "how good is apple pie when it is cold -> how good is apple pie when it is cold -> how good is appl pie when it is cold\n",
      "why do arabs and mexicans look alike -> why do arabs and mexicans look alike -> why do arab and mexican look alik\n",
      "why can t teenagers vote -> why cant teenagers vote -> why cant teenag vote\n",
      "why did the bush admin cover up 9 11 -> why did the bush admin cover up 9 11 -> why did the bush admin cover up 9 11\n",
      "how do i keep black birds out of my bar b que grill -> how do i keep black birds out of my bar b que grill -> how do i keep black bird out of my bar b que grill\n",
      "how do i find out if someone left me a life insurance policy -> how do i find out if someone left me a life insurance policy -> how do i find out if someon left me a life insur polici\n",
      "why is gordon ramsey so popular -> why is gordon ramsey so popular -> why is gordon ramsey so popular\n",
      "why hot air rises up -> why hot air rises up -> why hot air rise up\n",
      "how do i remove the simm card on a lg vx8300 cell phone -> how do i remove the simm card on a lg vx8300 cell phone -> how do i remov the sim sim card on a lg vx8300 cell phone\n",
      "what is the history of indian music -> what is the history of indian music -> what is the histori of indian music\n",
      "how soon can you drive on a newly paved driveway -> how soon can you drive on a newly paved driveway -> how soon can you drive on a newli pave driveway\n",
      "why is religious freedom more important today -> why is religious freedom more important today -> why is religi freedom more import today\n",
      "what is direct borrowing phonological borrowing linguistic borrowing cultural borrowing intimate borrowing -> what is direct borrowing phonological borrowing linguistic borrowing cultural borrowing intimate borrowing -> what is direct borrow phonolog borrow linguist borrow cultur borrow intim borrow\n",
      "why do airplanes fly so high -> why do airplanes fly so high -> why do airlin aeroplan fli so high\n",
      "what factors cause the earth to heat unevenly -> what factors cause the earth to heat unevenly -> what factor caus the earth to heat uneven\n",
      "we have pork chops veal chops lamb chops why is there not any beef chops -> we have pork chops veal chops lamb chops why is there not any beef chops -> we have pork chop veal chop lamb chop why is there not any beef chop\n",
      "how is the library consider as a heart of university -> how is the library consider as a heart of university -> how is the librari consid as a heart of univers\n",
      "how cloning will affects our community -> how cloning will affects our community -> how clone will affect our communiti\n",
      "why do people feed poison sugar to their kids on easter and why are there no chocolate jesuses -> why do people feed poison sugar to their kids on easter and why are there no chocolate jesuses -> why do peopl feed poison sugar to their kid on easter and why are there no chocol jesus jess\n",
      "why does the sun shine -> why does the sun shine -> why does the sun shine\n",
      "how can i keep my rabit indoors -> how can i keep my rabit indoors -> how can i keep my rabbit habit indoor\n",
      "why is switching schools so depressing -> why is switching schools so depressing -> why is switch school so depress\n",
      "how to get 277 v ac -> how to get 277 v ac -> how to get 277 v ac\n",
      "how to handsew sequins -> how to handsew sequins -> how to handset handsaw sequin\n",
      "if red bull is soo bad for people then why is it soo popular -> if red bull is soo bad for people then why is it soo popular -> if red bull is so too bad for peopl then why is it so too popular\n",
      "how can i treat my acne scars -> how can i treat my acne scars -> how can i treat my acn scar\n",
      "how to design road crust for national highways -> how to design road crust for national highways -> how to design road crust for nation highway\n",
      "why don t commercial planes fly over the north pole -> why dont commercial planes fly over the north pole -> why done font commerci plane fli over the north pole\n",
      "how can i get rid of pimples on my back -> how can i get rid of pimples on my back -> how can i get rid of pimpl on my back\n",
      "my city just put a ban on pit bulls how do we reverse the decision -> my city just put a ban on pit bulls how do we reverse the decision -> my citi just put a ban on pit bull how do we revers the decis\n",
      "what are the different types of sins and how are they caused -> what are the different types of sins and how are they caused -> what are the differ type of sin and how are they caus\n",
      "what causes skin discoloration specifically whitening of the skin between fingers -> what causes skin discoloration specifically whitening of the skin between fingers -> what caus skin discolor specif whiten of the skin between finger\n",
      "how do i go about getting copies of letters of commendation prsented to me from city of san diego -> how do i go about getting copies of letters of commendation prsented to me from city of san diego -> how do i go about get copi of letter of commend present print to me from citi of san diego\n",
      "how were you saved from sin and born again as jesus says except you repent and be born again how didyou -> how were you saved from sin and born again as jesus says except you repent and be born again how didyou -> how were you save from sin and born again as jesus say except you repent and be born again how dido\n",
      "how to rollover 401k into real estate -> how to rollover 401k into real estate -> how to rollov 401k into real estat\n",
      "why is lemonade at restaurants sometimes different -> why is lemonade at restaurants sometimes different -> why is lemonad at restaur sometim differ\n",
      "how do you improve fuel efficiency of a 2004 ford ikon -> how do you improve fuel efficiency of a 2004 ford ikon -> how do you improv fuel effici of a 2004 ford ikon\n",
      "how do you prevent chicken from drying out when you cook it -> how do you prevent chicken from drying out when you cook it -> how do you prevent chicken from dri out when you cook it\n",
      "how can we understand islam and muslims better -> how can we understand islam and muslims better -> how can we understand islam and muslim better\n",
      "well the black light is uv light so if it is black how can it be light -> well the black light is uv light so if it is black how can it be light -> well the black light is uv light so if it is black how can it be light\n",
      "why do anxiety and depression seem to coexist -> why do anxiety and depression seem to coexist -> why do anxieti and depress seem to coexist\n",
      "what does 5 by 5 mean -> what does 5 by 5 mean -> what does 5 by 5 mean\n",
      "why is april 19th important -> why is april 19th important -> why is april with both import\n",
      "why do most cigarettes have the yellow filter -> why do most cigarettes have the yellow filter -> why do most cigarett have the yellow filter\n",
      "what s the definition of a bloody mary -> what s the definition of a bloody mary -> what s the definit of a bloodi mari\n",
      "what is meant by mobile technology -> what is meant by mobile technology -> what is meant by mobil technolog\n",
      "why do we wee a lot in the cold weather especially at night -> why do we wee a lot in the cold weather especially at night -> why do we wee a lot in the cold weather especi at night\n",
      "how come compton is only designated for black people -> how come compton is only designated for black people -> how come compton is only design for black peopl\n",
      "how do i deap fry chicken -> how do i deap fry chicken -> how do i deal deep fri chicken\n",
      "how do i know if a particular term or phrase is copyrighted -> how do i know if a particular term or phrase is copyrighted -> how do i know if a particular term or phrase is copyright\n",
      "why do parent put kids on restriction -> why do parent put kids on restriction -> why do parent put kid on restrict\n",
      "which auto insurance do you use and why -> which auto insurance do you use and why -> which auto insur do you use and why\n",
      "does anybody know where i could get a free guide on how to train a siberian husky -> does anybody know where i could get a free guide on how to train a siberian husky -> does anybodi know where i could get a free guid on how to train a siberian huski\n",
      "what are some good exercises to get rid of those love handles -> what are some good exercises to get rid of those love handles -> what are some good exercis to get rid of those love handl\n",
      "what are mormens -> what are mormens -> what are mormon moment\n",
      "what are the symptoms of strep throat -> what are the symptoms of strep throat -> what are the symptom of strep throat\n",
      "why is the war continuing in afghanistan -> why is the war continuing in afghanistan -> why is the war continu in afghanistan\n",
      "how could u get success -> how could u get success -> how could u get success\n",
      "why am i not able to concentrate on my studies -> why am i not able to concentrate on my studies -> why am i not abl to concentr on my studi\n",
      "what are some signs that puberty is beginning -> what are some signs that puberty is beginning -> what are some sign that puberti is begin\n",
      "what is the term milky way -> what is the term milky way -> what is the term milki way\n",
      "why do some people take life so seriously -> why do some people take life so seriously -> why do some peopl take life so serious\n",
      "how amoeba catches its prey -> how amoeba catches its prey -> how amoeba catch its prey\n",
      "what does sholomister mean -> what does sholomister mean -> what does sholomist mean\n",
      "why is gw dogged for not getting obl yet killing zarkawi is a non event -> why is gw dogged for not getting obl yet killing zarkawi is a non event -> why is gw dog for not get oil obj yet kill zarkawi is a non event\n",
      "how do you sell a junk car without a title -> how do you sell a junk car without a title -> how do you sell a junk car without a titl\n",
      "why did the army have personal cuts in the mid 1990 s -> why did the army have personal cuts in the mid 1990 s -> why did the armi have person cut in the mid 1990 s\n",
      "when it comes to religion why dont people realize history repeats itself -> when it comes to religion why dont people realize history repeats itself -> when it come to religion why done font peopl realiz histori repeat itself\n",
      "how can i get rid of the hicups -> how can i get rid of the hicups -> how can i get rid of the hiccup cup\n",
      "why does my black lab howl to law and order theme song -> why does my black lab howl to law and order theme song -> why does my black lab howl to law and order theme song\n",
      "why are liberals so quick to defend saddam -> why are liberals so quick to defend saddam -> why are liber so quick to defend saddam\n",
      "why do black people like fried chicken somuch -> why do black people like fried chicken somuch -> why do black peopl like fri chicken such much\n",
      "how does spending prolonged time in microgravity affect the bodies of astronauts -> how does spending prolonged time in microgravity affect the bodies of astronauts -> how does spend prolong time in micrograv affect the bodi of astronaut\n",
      "how to get rid of a skunk -> how to get rid of a skunk -> how to get rid of a skunk\n",
      "why do people say germans are racists -> why do people say germans are racists -> why do peopl say german are racist\n",
      "what causes gray facial hair in men -> what causes gray facial hair in men -> what caus gray facial hair in men\n",
      "how do i get my pitbull more agressive -> how do i get my pitbull more agressive -> how do i get my pinbal pitfal more aggress regress\n",
      "what can make someones ear s stink -> what can make someones ear s stink -> what can make someon ear s stink\n",
      "why am i alive -> why am i alive -> why am i aliv\n",
      "why a man float on water when he dies -> why a man float on water when he dies -> why a man float on water when he die\n",
      "how can i cure the std or the sexually transmitted disease -> how can i cure the std or the sexually transmitted disease -> how can i cure the std or the sexual transmit diseas\n",
      "what color you like the most and why -> what color you like the most and why -> what color you like the most and why\n",
      "why the media in us and europe is always attacking the arabs and islam without finding the truth about them -> why the media in us and europe is always attacking the arabs and islam without finding the truth about them -> why the media in us and europ is alway attack the arab and islam without find the truth about them\n",
      "what does the prefix cyclo mean in greek mythology -> what does the prefix cyclo mean in greek mythology -> what does the prefix cycl cycl mean in greek mytholog\n",
      "why do kamikaze pilots wear helmets -> why do kamikaze pilots wear helmets -> why do kamikaz pilot wear helmet\n",
      "how does water pressure change -> how does water pressure change -> how does water pressur chang\n",
      "what are the names of some famous photographers and why do their work stand up -> what are the names of some famous photographers and why do their work stand up -> what are the name of some famous photograph and why do their work stand up\n",
      "what is citriscidal -> what is citriscidal -> what is citriscid\n",
      "how can i hunt down and punch the people that keep spamming me -> how can i hunt down and punch the people that keep spamming me -> how can i hunt down and punch the peopl that keep spam me\n",
      "why do i have pterofobia -> why do i have pterofobia -> why do i have pterofobia\n",
      "how do i find an inmate at southwest detention center auld rd murrieta ca -> how do i find an inmate at southwest detention center auld rd murrieta ca -> how do i find an inmat at southwest detent center aud ald rd murrieta ca\n",
      "why is the new jersey smoking ban not considered unconstitutional -> why is the new jersey smoking ban not considered unconstitutional -> why is the new jersey smoke ban not consid unconstitut\n",
      "why do i have to dumb myself down all the time though i am highly undereducated -> why do i have to dumb myself down all the time though i am highly undereducated -> why do i have to dumb myself down all the time though i am high undereduc\n",
      "why do i keep seeing people on here dissing on the soldiers in iraq -> why do i keep seeing people on here dissing on the soldiers in iraq -> why do i keep see peopl on here diss on the soldier in iraq\n",
      "why don t fat people have to pay more for air travel -> why dont fat people have to pay more for air travel -> why done font fat peopl have to pay more for air travel\n",
      "why does asparugus make your pee stink -> why does asparugus make your pee stink -> why does asparagus make your pee stink\n",
      "how is catholicism not christianity -> how is catholicism not christianity -> how is catholic not christian\n",
      "why does nt america regard foriegn credentials -> why does nt america regard foriegn credentials -> why does nt america regard foreign forego credenti\n",
      "why did the founder of daewoo get a 10 year jail sentence -> why did the founder of daewoo get a 10 year jail sentence -> why did the founder of daemon dagwood get a 10 year jail sentenc\n",
      "why do wisdom varies from person to person -> why do wisdom varies from person to person -> why do wisdom vari from person to person\n",
      "why was i punished for being christlike -> why was i punished for being christlike -> why was i punish for being christlik\n",
      "how can i heat the water within a 150 gal tank that s open to the atmosphere in feb -> how can i heat the water within a 150 gal tank that s open to the atmosphere in feb -> how can i heat the water within a 150 gal tank that s open to the atmospher in feb\n",
      "what does wet behind the ears mean -> what does wet behind the ears mean -> what does wet behind the ear mean\n",
      "how can i get a cork out of not into a wine bottle without a corkscrew -> how can i get a cork out of not into a wine bottle without a corkscrew -> how can i get a cork out of not into a wine bottl without a corkscrew\n",
      "what is the importance of absolute zero temperature -> what is the importance of absolute zero temperature -> what is the import of absolut zero temperatur\n",
      "how can i develop leanbody and muscles -> how can i develop leanbody and muscles -> how can i develop peabodi and muscl\n",
      "what is a bro -> what is a bro -> what is a bro\n",
      "how for is saturn from the sun -> how for is saturn from the sun -> how for is saturn from the sun\n",
      "what is a nucleus -> what is a nucleus -> what is a nucleus\n",
      "why do my baked potatos never taste near as good as when i get them in a nice restaurant -> why do my baked potatos never taste near as good as when i get them in a nice restaurant -> why do my bake potato potato never tast near as good as when i get them in a nice restaur\n",
      "how does ultraviolet light affects seed germination and plant growth -> how does ultraviolet light affects seed germination and plant growth -> how does ultraviolet light affect seed germin and plant growth\n",
      "what cause the car to have white smoke coming from the muffler and making a kicking or knocking sounds -> what cause the car to have white smoke coming from the muffler and making a kicking or knocking sounds -> what caus the car to have white smoke come from the muffler and make a kick or knock sound\n",
      "how were the witches tested in the salem witch trials -> how were the witches tested in the salem witch trials -> how were the witch test in the salem witch trial\n",
      "why do only humans have finger prints -> why do only humans have finger prints -> why do only human have finger print\n",
      "freedom of speech why don t people understand how to use it -> freedom of speech why dont people understand how to use it -> freedom of speech why done font peopl understand how to use it\n",
      "how do i grow taller -> how do i grow taller -> how do i grow taller\n",
      "why do some animals hide in a dark place b4 they die -> why do some animals hide in a dark place b4 they die -> why do some anim hide in a dark place b4 they die\n",
      "how do you get rid of wart on your hand a using home method -> how do you get rid of wart on your hand a using home method -> how do you get rid of wart on your hand a use home method\n",
      "couscous is a food from what origin -> couscous is a food from what origin -> couscous is a food from what origin\n",
      "how to lose all body fat -> how to lose all body fat -> how to lose all bodi fat\n",
      "if you could be an element of weather which would you choose and why -> if you could be an element of weather which would you choose and why -> if you could be an element of weather which would you choos and why\n",
      "what do you mean by weed -> what do you mean by weed -> what do you mean by weed\n",
      "how does disneyland make it snow -> how does disneyland make it snow -> how does disneyland make it snow\n",
      "what exemplifies effective customer service -> what exemplifies effective customer service -> what exemplifi effect custom servic\n",
      "what is minimalist cubisium -> what is minimalist cubisium -> what is minimalist cubism rubidium\n",
      "can anybody tell me what is a butler -> can anybody tell me what is a butler -> can anybodi tell me what is a butler\n",
      "why do we need to tell customer service operator about our sickness in order to make appointment w a doctor -> why do we need to tell customer service operator about our sickness in order to make appointment w a doctor -> why do we need to tell custom servic oper about our sick in order to make appoint w a doctor\n",
      "muslims are the happiest people ever why -> muslims are the happiest people ever why -> muslim are the happiest peopl ever why\n",
      "why does loving someone hurts like hell -> why does loving someone hurts like hell -> why does love someon hurt like hell\n",
      "why is there brail on the keypads at drive up atm s -> why is there brail on the keypads at drive up atm s -> why is there brail on the keypad at drive up atm s\n",
      "how to care for a spiked dragon and what to feed them -> how to care for a spiked dragon and what to feed them -> how to care for a spike dragon and what to feed them\n",
      "what do doctors do when a patient has a do nor resuscitate order -> what do doctors do when a patient has a do nor resuscitate order -> what do doctor do when a patient has a do nor resuscit order\n",
      "what are some easy ways to get a toddler to go to sleep without being mean -> what are some easy ways to get a toddler to go to sleep without being mean -> what are some easi way to get a toddler to go to sleep without being mean\n",
      "causes and effects of the rise of christanity -> causes and effects of the rise of christanity -> caus and effect of the rise of christian\n",
      "how is th chemistry is a basic of science -> how is th chemistry is a basic of science -> how is th chemistri is a basic of scienc\n",
      "what is artificial intelligence -> what is artificial intelligence -> what is artifici intellig\n",
      "what is the difference between an ox and a bull -> what is the difference between an ox and a bull -> what is the differ between an ox and a bull\n",
      "how can i hide the cuts on my wrists -> how can i hide the cuts on my wrists -> how can i hide the cut on my wrist\n",
      "how can you be more brilliant -> how can you be more brilliant -> how can you be more brilliant\n",
      "why some men never wash their hands after using the urinal toilet -> why some men never wash their hands after using the urinal toilet -> why some men never wash their hand after use the urin toilet\n",
      "how are braces put on and do they hurt a lot -> how are braces put on and do they hurt a lot -> how are brace put on and do they hurt a lot\n",
      "what do you order at taco bell -> what do you order at taco bell -> what do you order at taco bell\n",
      "why do we go to school if in the real world we dont use most of it -> why do we go to school if in the real world we dont use most of it -> why do we go to school if in the real world we done font use most of it\n",
      "why do some people only go to church on easter sunday and never go again until christmas -> why do some people only go to church on easter sunday and never go again until christmas -> why do some peopl only go to church on easter sunday and never go again until christma\n",
      "score after rewriting 0.15074047389580703\n"
     ]
    }
   ],
   "execution_count": 122
  }
 ],
 "metadata": {
  "kernelspec": {
   "display_name": "pt",
   "language": "python",
   "name": "python3"
  },
  "language_info": {
   "codemirror_mode": {
    "name": "ipython",
    "version": 3
   },
   "file_extension": ".py",
   "mimetype": "text/x-python",
   "name": "python",
   "nbconvert_exporter": "python",
   "pygments_lexer": "ipython3",
   "version": "3.11.7"
  }
 },
 "nbformat": 4,
 "nbformat_minor": 2
}
