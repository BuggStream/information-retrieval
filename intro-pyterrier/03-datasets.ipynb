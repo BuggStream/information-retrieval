{
 "cells": [
  {
   "cell_type": "markdown",
   "metadata": {},
   "source": [
    "# Introduction to PyTerrier\n",
    "\n",
    "_DSAIT4050: Information retrieval lecture, TU Delft_\n",
    "\n",
    "**Part 3: Datasets**\n",
    "\n",
    "This notebook focuses on IR datasets and pre-made indexes that can be loaded automatically in PyTerrier.\n"
   ]
  },
  {
   "cell_type": "code",
   "metadata": {
    "vscode": {
     "languageId": "shellscript"
    },
    "ExecuteTime": {
     "end_time": "2025-02-19T13:05:59.560708Z",
     "start_time": "2025-02-19T13:05:59.559173Z"
    }
   },
   "source": "# pip install python-terrier==0.12.1",
   "outputs": [],
   "execution_count": 1
  },
  {
   "cell_type": "code",
   "metadata": {
    "ExecuteTime": {
     "end_time": "2025-02-19T13:05:59.890716Z",
     "start_time": "2025-02-19T13:05:59.601608Z"
    }
   },
   "source": [
    "import pyterrier as pt"
   ],
   "outputs": [],
   "execution_count": 2
  },
  {
   "cell_type": "markdown",
   "metadata": {},
   "source": [
    "## Importing datasets\n",
    "\n",
    "PyTerrier comes with a multitude of datasets that can be loaded directly. This is great because the parsing is already taken care of and any required files will be downloaded automatically.\n",
    "\n",
    "A list of available datasets can be found [here](https://pyterrier.readthedocs.io/en/latest/datasets.html#available-datasets) or by calling the following function:\n"
   ]
  },
  {
   "cell_type": "code",
   "metadata": {
    "ExecuteTime": {
     "end_time": "2025-02-19T13:05:59.989737Z",
     "start_time": "2025-02-19T13:05:59.958228Z"
    }
   },
   "source": [
    "pt.datasets.list_datasets()"
   ],
   "outputs": [
    {
     "data": {
      "text/plain": [
       "                         dataset  \\\n",
       "0                          50pct   \n",
       "1                        antique   \n",
       "2                        vaswani   \n",
       "3               msmarco_document   \n",
       "4             msmarcov2_document   \n",
       "..                           ...   \n",
       "748                 irds:neuclir   \n",
       "749               irds:neuclir/1   \n",
       "764                    irds:sara   \n",
       "765      trec-deep-learning-docs   \n",
       "766  trec-deep-learning-passages   \n",
       "\n",
       "                                                topics topics_lang  \\\n",
       "0                               [training, validation]          en   \n",
       "1                                        [train, test]          en   \n",
       "2                                                 True          en   \n",
       "3      [train, dev, test, test-2020, leaderboard-2020]          en   \n",
       "4       [train, dev1, dev2, valid1, valid2, trec_2021]          en   \n",
       "..                                                 ...         ...   \n",
       "748                                               None        None   \n",
       "749                                               None        None   \n",
       "764                                               True          en   \n",
       "765    [train, dev, test, test-2020, leaderboard-2020]          en   \n",
       "766  [train, dev, dev.small, eval, eval.small, test...          en   \n",
       "\n",
       "                                             qrels corpus corpus_lang  \\\n",
       "0                           [training, validation]   None        None   \n",
       "1                                    [train, test]   True          en   \n",
       "2                                             True   True          en   \n",
       "3                    [train, dev, test, test-2020]   True          en   \n",
       "4              [train, dev1, dev2, valid1, valid2]   None        None   \n",
       "..                                             ...    ...         ...   \n",
       "748                                           None   None        None   \n",
       "749                                           None   None        None   \n",
       "764                                           True   True          en   \n",
       "765                  [train, dev, test, test-2020]   True          en   \n",
       "766  [train, dev, test-2019, test-2020, dev.small]   True          en   \n",
       "\n",
       "          index                                           info_url  \n",
       "0    [ex2, ex3]                                               None  \n",
       "1          None  https://ciir.cs.umass.edu/downloads/Antique/re...  \n",
       "2          True  http://ir.dcs.gla.ac.uk/resources/test_collect...  \n",
       "3          True               https://microsoft.github.io/msmarco/  \n",
       "4          True  https://microsoft.github.io/msmarco/TREC-Deep-...  \n",
       "..          ...                                                ...  \n",
       "748        None               https://ir-datasets.com/neuclir.html  \n",
       "749        None     https://ir-datasets.com/neuclir.html#neuclir/1  \n",
       "764        None                  https://ir-datasets.com/sara.html  \n",
       "765        True               https://microsoft.github.io/msmarco/  \n",
       "766        True  https://microsoft.github.io/MSMARCO-Passage-Ra...  \n",
       "\n",
       "[437 rows x 8 columns]"
      ],
      "text/html": [
       "<div>\n",
       "<style scoped>\n",
       "    .dataframe tbody tr th:only-of-type {\n",
       "        vertical-align: middle;\n",
       "    }\n",
       "\n",
       "    .dataframe tbody tr th {\n",
       "        vertical-align: top;\n",
       "    }\n",
       "\n",
       "    .dataframe thead th {\n",
       "        text-align: right;\n",
       "    }\n",
       "</style>\n",
       "<table border=\"1\" class=\"dataframe\">\n",
       "  <thead>\n",
       "    <tr style=\"text-align: right;\">\n",
       "      <th></th>\n",
       "      <th>dataset</th>\n",
       "      <th>topics</th>\n",
       "      <th>topics_lang</th>\n",
       "      <th>qrels</th>\n",
       "      <th>corpus</th>\n",
       "      <th>corpus_lang</th>\n",
       "      <th>index</th>\n",
       "      <th>info_url</th>\n",
       "    </tr>\n",
       "  </thead>\n",
       "  <tbody>\n",
       "    <tr>\n",
       "      <th>0</th>\n",
       "      <td>50pct</td>\n",
       "      <td>[training, validation]</td>\n",
       "      <td>en</td>\n",
       "      <td>[training, validation]</td>\n",
       "      <td>None</td>\n",
       "      <td>None</td>\n",
       "      <td>[ex2, ex3]</td>\n",
       "      <td>None</td>\n",
       "    </tr>\n",
       "    <tr>\n",
       "      <th>1</th>\n",
       "      <td>antique</td>\n",
       "      <td>[train, test]</td>\n",
       "      <td>en</td>\n",
       "      <td>[train, test]</td>\n",
       "      <td>True</td>\n",
       "      <td>en</td>\n",
       "      <td>None</td>\n",
       "      <td>https://ciir.cs.umass.edu/downloads/Antique/re...</td>\n",
       "    </tr>\n",
       "    <tr>\n",
       "      <th>2</th>\n",
       "      <td>vaswani</td>\n",
       "      <td>True</td>\n",
       "      <td>en</td>\n",
       "      <td>True</td>\n",
       "      <td>True</td>\n",
       "      <td>en</td>\n",
       "      <td>True</td>\n",
       "      <td>http://ir.dcs.gla.ac.uk/resources/test_collect...</td>\n",
       "    </tr>\n",
       "    <tr>\n",
       "      <th>3</th>\n",
       "      <td>msmarco_document</td>\n",
       "      <td>[train, dev, test, test-2020, leaderboard-2020]</td>\n",
       "      <td>en</td>\n",
       "      <td>[train, dev, test, test-2020]</td>\n",
       "      <td>True</td>\n",
       "      <td>en</td>\n",
       "      <td>True</td>\n",
       "      <td>https://microsoft.github.io/msmarco/</td>\n",
       "    </tr>\n",
       "    <tr>\n",
       "      <th>4</th>\n",
       "      <td>msmarcov2_document</td>\n",
       "      <td>[train, dev1, dev2, valid1, valid2, trec_2021]</td>\n",
       "      <td>en</td>\n",
       "      <td>[train, dev1, dev2, valid1, valid2]</td>\n",
       "      <td>None</td>\n",
       "      <td>None</td>\n",
       "      <td>True</td>\n",
       "      <td>https://microsoft.github.io/msmarco/TREC-Deep-...</td>\n",
       "    </tr>\n",
       "    <tr>\n",
       "      <th>...</th>\n",
       "      <td>...</td>\n",
       "      <td>...</td>\n",
       "      <td>...</td>\n",
       "      <td>...</td>\n",
       "      <td>...</td>\n",
       "      <td>...</td>\n",
       "      <td>...</td>\n",
       "      <td>...</td>\n",
       "    </tr>\n",
       "    <tr>\n",
       "      <th>748</th>\n",
       "      <td>irds:neuclir</td>\n",
       "      <td>None</td>\n",
       "      <td>None</td>\n",
       "      <td>None</td>\n",
       "      <td>None</td>\n",
       "      <td>None</td>\n",
       "      <td>None</td>\n",
       "      <td>https://ir-datasets.com/neuclir.html</td>\n",
       "    </tr>\n",
       "    <tr>\n",
       "      <th>749</th>\n",
       "      <td>irds:neuclir/1</td>\n",
       "      <td>None</td>\n",
       "      <td>None</td>\n",
       "      <td>None</td>\n",
       "      <td>None</td>\n",
       "      <td>None</td>\n",
       "      <td>None</td>\n",
       "      <td>https://ir-datasets.com/neuclir.html#neuclir/1</td>\n",
       "    </tr>\n",
       "    <tr>\n",
       "      <th>764</th>\n",
       "      <td>irds:sara</td>\n",
       "      <td>True</td>\n",
       "      <td>en</td>\n",
       "      <td>True</td>\n",
       "      <td>True</td>\n",
       "      <td>en</td>\n",
       "      <td>None</td>\n",
       "      <td>https://ir-datasets.com/sara.html</td>\n",
       "    </tr>\n",
       "    <tr>\n",
       "      <th>765</th>\n",
       "      <td>trec-deep-learning-docs</td>\n",
       "      <td>[train, dev, test, test-2020, leaderboard-2020]</td>\n",
       "      <td>en</td>\n",
       "      <td>[train, dev, test, test-2020]</td>\n",
       "      <td>True</td>\n",
       "      <td>en</td>\n",
       "      <td>True</td>\n",
       "      <td>https://microsoft.github.io/msmarco/</td>\n",
       "    </tr>\n",
       "    <tr>\n",
       "      <th>766</th>\n",
       "      <td>trec-deep-learning-passages</td>\n",
       "      <td>[train, dev, dev.small, eval, eval.small, test...</td>\n",
       "      <td>en</td>\n",
       "      <td>[train, dev, test-2019, test-2020, dev.small]</td>\n",
       "      <td>True</td>\n",
       "      <td>en</td>\n",
       "      <td>True</td>\n",
       "      <td>https://microsoft.github.io/MSMARCO-Passage-Ra...</td>\n",
       "    </tr>\n",
       "  </tbody>\n",
       "</table>\n",
       "<p>437 rows × 8 columns</p>\n",
       "</div>"
      ]
     },
     "execution_count": 3,
     "metadata": {},
     "output_type": "execute_result"
    }
   ],
   "execution_count": 3
  },
  {
   "cell_type": "markdown",
   "metadata": {},
   "source": [
    "Each dataset has the following components:\n",
    "\n",
    "- Corpus (the documents),\n",
    "- index (pre-made, ready to use),\n",
    "- topics (queries or topic descriptions, grouped in folds or splits),\n",
    "- qrels (query relevance information, we'll use this for evaluation in an upcoming notebook).\n",
    "\n",
    "Note that, for many datasets, some of these components are missing. Furthermore, the prefix `irds:` denotes that the corresponding dataset is loaded from the [`ir_datasets`](https://ir-datasets.com/) library, which seamlessly integrates with PyTerrier.\n",
    "\n",
    "Let's start by loading the `vaswani` dataset:\n"
   ]
  },
  {
   "cell_type": "code",
   "metadata": {
    "ExecuteTime": {
     "end_time": "2025-02-19T13:06:24.326714Z",
     "start_time": "2025-02-19T13:06:24.325050Z"
    }
   },
   "source": [
    "dataset = pt.get_dataset(\"vaswani\")"
   ],
   "outputs": [],
   "execution_count": 5
  },
  {
   "cell_type": "markdown",
   "metadata": {},
   "source": [
    "For this dataset, there are pre-made indexes available that we can load. In order to do this, we need to select a _variant_. The variants differ slightly, for example, in terms of pre-processing. An overview of the indexes and variants can be found in the [Terrier data repository](http://data.terrier.org/).\n",
    "\n",
    "We'll use the standard variant, `terrier_stemmed`, to create a BM25 model:\n"
   ]
  },
  {
   "cell_type": "code",
   "metadata": {
    "ExecuteTime": {
     "end_time": "2025-02-19T13:06:32.945705Z",
     "start_time": "2025-02-19T13:06:32.925164Z"
    }
   },
   "source": [
    "index = dataset.get_index(variant=\"terrier_stemmed\")\n",
    "bm25 = pt.terrier.Retriever(index, wmodel=\"BM25\")\n",
    "bm25.search(\"computer\")"
   ],
   "outputs": [
    {
     "data": {
      "text/plain": [
       "    qid  docid  docno  rank     score     query\n",
       "0     1   3941   3942     0  7.697643  computer\n",
       "1     1    139    140     1  7.634963  computer\n",
       "2     1   2546   2547     2  7.582282  computer\n",
       "3     1   3597   3598     3  7.582282  computer\n",
       "4     1    394    395     4  7.504337  computer\n",
       "..   ..    ...    ...   ...       ...       ...\n",
       "527   1   3718   3719   527  2.401824  computer\n",
       "528   1  10015  10016   528  2.379234  computer\n",
       "529   1   3484   3485   529  2.335306  computer\n",
       "530   1   8380   8381   530  2.313945  computer\n",
       "531   1   8135   8136   531  1.986817  computer\n",
       "\n",
       "[532 rows x 6 columns]"
      ],
      "text/html": [
       "<div>\n",
       "<style scoped>\n",
       "    .dataframe tbody tr th:only-of-type {\n",
       "        vertical-align: middle;\n",
       "    }\n",
       "\n",
       "    .dataframe tbody tr th {\n",
       "        vertical-align: top;\n",
       "    }\n",
       "\n",
       "    .dataframe thead th {\n",
       "        text-align: right;\n",
       "    }\n",
       "</style>\n",
       "<table border=\"1\" class=\"dataframe\">\n",
       "  <thead>\n",
       "    <tr style=\"text-align: right;\">\n",
       "      <th></th>\n",
       "      <th>qid</th>\n",
       "      <th>docid</th>\n",
       "      <th>docno</th>\n",
       "      <th>rank</th>\n",
       "      <th>score</th>\n",
       "      <th>query</th>\n",
       "    </tr>\n",
       "  </thead>\n",
       "  <tbody>\n",
       "    <tr>\n",
       "      <th>0</th>\n",
       "      <td>1</td>\n",
       "      <td>3941</td>\n",
       "      <td>3942</td>\n",
       "      <td>0</td>\n",
       "      <td>7.697643</td>\n",
       "      <td>computer</td>\n",
       "    </tr>\n",
       "    <tr>\n",
       "      <th>1</th>\n",
       "      <td>1</td>\n",
       "      <td>139</td>\n",
       "      <td>140</td>\n",
       "      <td>1</td>\n",
       "      <td>7.634963</td>\n",
       "      <td>computer</td>\n",
       "    </tr>\n",
       "    <tr>\n",
       "      <th>2</th>\n",
       "      <td>1</td>\n",
       "      <td>2546</td>\n",
       "      <td>2547</td>\n",
       "      <td>2</td>\n",
       "      <td>7.582282</td>\n",
       "      <td>computer</td>\n",
       "    </tr>\n",
       "    <tr>\n",
       "      <th>3</th>\n",
       "      <td>1</td>\n",
       "      <td>3597</td>\n",
       "      <td>3598</td>\n",
       "      <td>3</td>\n",
       "      <td>7.582282</td>\n",
       "      <td>computer</td>\n",
       "    </tr>\n",
       "    <tr>\n",
       "      <th>4</th>\n",
       "      <td>1</td>\n",
       "      <td>394</td>\n",
       "      <td>395</td>\n",
       "      <td>4</td>\n",
       "      <td>7.504337</td>\n",
       "      <td>computer</td>\n",
       "    </tr>\n",
       "    <tr>\n",
       "      <th>...</th>\n",
       "      <td>...</td>\n",
       "      <td>...</td>\n",
       "      <td>...</td>\n",
       "      <td>...</td>\n",
       "      <td>...</td>\n",
       "      <td>...</td>\n",
       "    </tr>\n",
       "    <tr>\n",
       "      <th>527</th>\n",
       "      <td>1</td>\n",
       "      <td>3718</td>\n",
       "      <td>3719</td>\n",
       "      <td>527</td>\n",
       "      <td>2.401824</td>\n",
       "      <td>computer</td>\n",
       "    </tr>\n",
       "    <tr>\n",
       "      <th>528</th>\n",
       "      <td>1</td>\n",
       "      <td>10015</td>\n",
       "      <td>10016</td>\n",
       "      <td>528</td>\n",
       "      <td>2.379234</td>\n",
       "      <td>computer</td>\n",
       "    </tr>\n",
       "    <tr>\n",
       "      <th>529</th>\n",
       "      <td>1</td>\n",
       "      <td>3484</td>\n",
       "      <td>3485</td>\n",
       "      <td>529</td>\n",
       "      <td>2.335306</td>\n",
       "      <td>computer</td>\n",
       "    </tr>\n",
       "    <tr>\n",
       "      <th>530</th>\n",
       "      <td>1</td>\n",
       "      <td>8380</td>\n",
       "      <td>8381</td>\n",
       "      <td>530</td>\n",
       "      <td>2.313945</td>\n",
       "      <td>computer</td>\n",
       "    </tr>\n",
       "    <tr>\n",
       "      <th>531</th>\n",
       "      <td>1</td>\n",
       "      <td>8135</td>\n",
       "      <td>8136</td>\n",
       "      <td>531</td>\n",
       "      <td>1.986817</td>\n",
       "      <td>computer</td>\n",
       "    </tr>\n",
       "  </tbody>\n",
       "</table>\n",
       "<p>532 rows × 6 columns</p>\n",
       "</div>"
      ]
     },
     "execution_count": 7,
     "metadata": {},
     "output_type": "execute_result"
    }
   ],
   "execution_count": 7
  },
  {
   "cell_type": "markdown",
   "metadata": {},
   "source": [
    "We can also create a retriever directly from the dataset like so:\n"
   ]
  },
  {
   "cell_type": "code",
   "metadata": {
    "ExecuteTime": {
     "end_time": "2025-02-19T13:06:54.848404Z",
     "start_time": "2025-02-19T13:06:54.841067Z"
    }
   },
   "source": [
    "bm25 = pt.terrier.Retriever.from_dataset(\n",
    "    dataset, variant=\"terrier_stemmed\", wmodel=\"BM25\"\n",
    ")"
   ],
   "outputs": [],
   "execution_count": 8
  },
  {
   "cell_type": "markdown",
   "metadata": {},
   "source": [
    "We can also browse the corpus:\n"
   ]
  },
  {
   "cell_type": "code",
   "metadata": {
    "ExecuteTime": {
     "end_time": "2025-02-19T13:07:17.769746Z",
     "start_time": "2025-02-19T13:07:17.766414Z"
    }
   },
   "source": [
    "for doc in dataset.get_corpus_iter():\n",
    "    print(doc)\n",
    "    break"
   ],
   "outputs": [
    {
     "name": "stdout",
     "output_type": "stream",
     "text": [
      "{'docno': '1', 'text': 'compact memories have flexible capacities  a digital data storage\\nsystem with capacity up to bits and random and or sequential access\\nis described'}\n"
     ]
    }
   ],
   "execution_count": 10
  },
  {
   "cell_type": "markdown",
   "metadata": {},
   "source": [
    "Similarly, the topics (queries) can be accessed as a `pandas.DataFrame`, such that we can use them directly:\n"
   ]
  },
  {
   "cell_type": "code",
   "execution_count": null,
   "metadata": {},
   "outputs": [],
   "source": [
    "bm25(dataset.get_topics())"
   ]
  },
  {
   "cell_type": "markdown",
   "metadata": {},
   "source": [
    "Note that some datasets require a variant here, such as `variant=\"train\"`.\n",
    "\n",
    "Since the corpus iterator already yields the documents in the correct format (see part 2: indexing), we can use it directly to create our own index if we wish:\n"
   ]
  },
  {
   "cell_type": "code",
   "metadata": {
    "ExecuteTime": {
     "end_time": "2025-02-19T13:07:50.974607Z",
     "start_time": "2025-02-19T13:07:50.116410Z"
    }
   },
   "source": [
    "from pathlib import Path\n",
    "\n",
    "index = pt.IterDictIndexer(\n",
    "    str(Path.cwd()),  # this will be ignored\n",
    "    type=pt.index.IndexingType.MEMORY,\n",
    ").index(dataset.get_corpus_iter())"
   ],
   "outputs": [],
   "execution_count": 11
  },
  {
   "cell_type": "markdown",
   "metadata": {},
   "source": [
    "## Further reading\n",
    "\n",
    "Check out the [datasets section](https://pyterrier.readthedocs.io/en/latest/datasets.html) in the documentation.\n"
   ]
  }
 ],
 "metadata": {
  "kernelspec": {
   "display_name": "pt",
   "language": "python",
   "name": "python3"
  },
  "language_info": {
   "codemirror_mode": {
    "name": "ipython",
    "version": 3
   },
   "file_extension": ".py",
   "mimetype": "text/x-python",
   "name": "python",
   "nbconvert_exporter": "python",
   "pygments_lexer": "ipython3",
   "version": "3.11.7"
  }
 },
 "nbformat": 4,
 "nbformat_minor": 2
}
