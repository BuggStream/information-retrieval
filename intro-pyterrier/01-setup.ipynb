{
 "cells": [
  {
   "cell_type": "markdown",
   "metadata": {},
   "source": [
    "# Introduction to PyTerrier\n",
    "\n",
    "_DSAIT4050: Information retrieval lecture, TU Delft_\n",
    "\n",
    "**Part 1: Setup**\n",
    "\n",
    "[Terrier](http://terrier.org) is an open-source information retrieval platform aimed at reserach and experimentation. We'll use [PyTerrier](https://pyterrier.readthedocs.io/), which provides a Python API for Terrier, in this lecture. This series of notebooks gives a brief introduction to PyTerrier.\n",
    "\n",
    "## Installation\n",
    "\n",
    "PyTerrier can be installed using `pip`:\n"
   ]
  },
  {
   "cell_type": "code",
   "metadata": {
    "vscode": {
     "languageId": "shellscript"
    },
    "ExecuteTime": {
     "end_time": "2025-02-19T11:53:25.599225Z",
     "start_time": "2025-02-19T11:53:25.592810Z"
    }
   },
   "source": [
    "import terrier\n",
    "\n",
    "# pip install python-terrier==0.12.1"
   ],
   "outputs": [],
   "execution_count": 2
  },
  {
   "cell_type": "markdown",
   "metadata": {},
   "source": [
    "You may want to consider using virtual environments, such as [`venv`](https://docs.python.org/3/library/venv.html) or [`conda`](https://www.anaconda.com/download). You'll also need an up-to-date version of the [Java development kit](https://www.oracle.com/java/technologies/downloads/) installed and the `JAVA_HOME` environment variable set. More detailed installation instructions and troubleshooting can be found [here](https://pyterrier.readthedocs.io/en/latest/installation.html).\n",
    "\n",
    "Now you should be able to import `pyterrier`:\n"
   ]
  },
  {
   "cell_type": "code",
   "metadata": {
    "ExecuteTime": {
     "end_time": "2025-02-19T11:53:28.071188Z",
     "start_time": "2025-02-19T11:53:27.762857Z"
    }
   },
   "source": [
    "import pyterrier as pt"
   ],
   "outputs": [],
   "execution_count": 3
  },
  {
   "cell_type": "markdown",
   "metadata": {},
   "source": [
    "## A test run\n",
    "\n",
    "Time to test our setup! PyTerrier provides support for loading and indexing a large number of IR datasets (more on that later). Let's load the [ANTIQUE](https://arxiv.org/abs/1905.08957) dataset:\n"
   ]
  },
  {
   "cell_type": "code",
   "metadata": {
    "ExecuteTime": {
     "end_time": "2025-02-19T11:53:30.263643Z",
     "start_time": "2025-02-19T11:53:30.261972Z"
    }
   },
   "source": [
    "dataset = pt.get_dataset(\"irds:antique\")"
   ],
   "outputs": [],
   "execution_count": 4
  },
  {
   "cell_type": "markdown",
   "metadata": {},
   "source": [
    "Now we can print one of the documents in the corpus:\n"
   ]
  },
  {
   "cell_type": "code",
   "metadata": {
    "ExecuteTime": {
     "end_time": "2025-02-19T11:54:05.765954Z",
     "start_time": "2025-02-19T11:54:05.762921Z"
    }
   },
   "source": [
    "from pprint import pprint\n",
    "\n",
    "for doc in dataset.get_corpus_iter():\n",
    "    pprint(doc)\n",
    "    break"
   ],
   "outputs": [
    {
     "name": "stderr",
     "output_type": "stream",
     "text": [
      "antique documents:   0%|          | 0/403666 [00:00<?, ?it/s]"
     ]
    },
    {
     "name": "stdout",
     "output_type": "stream",
     "text": [
      "{'docno': '2020338_0',\n",
      " 'text': 'A small group of politicians believed strongly that the fact that '\n",
      "         'Saddam Hussien remained in power after the first Gulf War was a '\n",
      "         'signal of weakness to the rest of the world, one that invited '\n",
      "         'attacks and terrorism. Shortly after taking power with George Bush '\n",
      "         'in 2000 and after the attack on 9/11, they were able to use the '\n",
      "         'terrorist attacks to justify war with Iraq on this basis and '\n",
      "         'exaggerated threats of the development of weapons of mass '\n",
      "         'destruction. The military strength of the U.S. and the brutality of '\n",
      "         \"Saddam's regime led them to imagine that the military and political \"\n",
      "         'victory would be relatively easy.'}\n"
     ]
    },
    {
     "name": "stderr",
     "output_type": "stream",
     "text": [
      "\n"
     ]
    }
   ],
   "execution_count": 6
  },
  {
   "cell_type": "markdown",
   "metadata": {},
   "source": [
    "If you see a document above now: Congratulations! The setup was successful. If not: Take a look at the [troubleshooting section](https://pyterrier.readthedocs.io/en/latest/installation.html#installation-troubleshooting) in the official documentation.\n"
   ]
  }
 ],
 "metadata": {
  "kernelspec": {
   "display_name": "pt",
   "language": "python",
   "name": "python3"
  },
  "language_info": {
   "codemirror_mode": {
    "name": "ipython",
    "version": 3
   },
   "file_extension": ".py",
   "mimetype": "text/x-python",
   "name": "python",
   "nbconvert_exporter": "python",
   "pygments_lexer": "ipython3",
   "version": "3.11.7"
  }
 },
 "nbformat": 4,
 "nbformat_minor": 2
}
