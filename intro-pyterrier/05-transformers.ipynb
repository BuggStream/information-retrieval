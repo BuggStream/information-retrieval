{
 "cells": [
  {
   "cell_type": "markdown",
   "metadata": {},
   "source": [
    "# Introduction to PyTerrier\n",
    "\n",
    "_DSAIT4050: Information retrieval lecture, TU Delft_\n",
    "\n",
    "**Part 5: Transformers**\n",
    "\n",
    "This notebook introduces PyTerrier _transformers_ (not to be confused with [neural transformer models](<https://en.wikipedia.org/wiki/Transformer_(deep_learning_architecture)>)). We'll learn about the different types of data frames that PyTerrier uses and how the transformers operate on them.\n",
    "\n",
    "To run everything in this notebook, you'll need [pyterrier-caching](https://pyterrier.readthedocs.io/en/latest/ext/pyterrier-caching/index.html) and [pyspellchecker](https://github.com/barrust/pyspellchecker) installed:\n"
   ]
  },
  {
   "cell_type": "code",
   "metadata": {
    "vscode": {
     "languageId": "shellscript"
    },
    "ExecuteTime": {
     "end_time": "2025-02-20T14:17:54.151169Z",
     "start_time": "2025-02-20T14:17:54.149676Z"
    }
   },
   "source": "# pip install python-terrier==0.12.1 pyterrier-caching==0.3.0 pyspellchecker",
   "outputs": [],
   "execution_count": 7
  },
  {
   "cell_type": "code",
   "metadata": {
    "ExecuteTime": {
     "end_time": "2025-02-20T14:17:54.154726Z",
     "start_time": "2025-02-20T14:17:54.153365Z"
    }
   },
   "source": [
    "import pyterrier as pt"
   ],
   "outputs": [],
   "execution_count": 8
  },
  {
   "cell_type": "markdown",
   "metadata": {},
   "source": [
    "In the following, we'll illustrate the different kinds of transformers and data frames using examples. Note that we're only scratching the surface here, so **make sure to have a look at the [documentation](https://pyterrier.readthedocs.io/)**!\n",
    "\n",
    "We'll use the `nfcorpus` dataset:\n"
   ]
  },
  {
   "cell_type": "code",
   "metadata": {
    "ExecuteTime": {
     "end_time": "2025-02-20T14:17:54.197492Z",
     "start_time": "2025-02-20T14:17:54.196123Z"
    }
   },
   "source": [
    "dataset = pt.get_dataset(\"irds:nfcorpus/test\")"
   ],
   "outputs": [],
   "execution_count": 9
  },
  {
   "cell_type": "markdown",
   "metadata": {},
   "source": [
    "For this task we'll need an index with blocks (i.e., positional information), so we need to create a new one, setting `blocks=True`. Since memory indexes do not support blocks at the moment, we'll create one on disk:\n"
   ]
  },
  {
   "cell_type": "code",
   "metadata": {
    "ExecuteTime": {
     "end_time": "2025-02-20T14:18:00.792725Z",
     "start_time": "2025-02-20T14:18:00.767283Z"
    }
   },
   "source": [
    "from pathlib import Path\n",
    "\n",
    "idx_path = Path.cwd() / \"05_data\" / \"nfcorpus_index_with_blocks\"\n",
    "pt.index.IterDictIndexer(\n",
    "    str(idx_path),\n",
    "    blocks=True,\n",
    "    text_attrs=[\"title\", \"abstract\", \"url\"]\n",
    ").index(dataset.get_corpus_iter())"
   ],
   "outputs": [
    {
     "name": "stderr",
     "output_type": "stream",
     "text": [
      "\n",
      "\n",
      "nfcorpus/test documents:   0%|          | 0/5371 [00:00<?, ?it/s]\u001B[A\u001B[A"
     ]
    },
    {
     "ename": "ValueError",
     "evalue": "Index already exists at /home/jim/projects/information-retrieval/intro-pyterrier/05_data/nfcorpus_index_with_blocks/data.properties",
     "output_type": "error",
     "traceback": [
      "\u001B[0;31m---------------------------------------------------------------------------\u001B[0m",
      "\u001B[0;31mValueError\u001B[0m                                Traceback (most recent call last)",
      "Cell \u001B[0;32mIn[10], line 8\u001B[0m\n\u001B[1;32m      1\u001B[0m \u001B[38;5;28;01mfrom\u001B[39;00m\u001B[38;5;250m \u001B[39m\u001B[38;5;21;01mpathlib\u001B[39;00m\u001B[38;5;250m \u001B[39m\u001B[38;5;28;01mimport\u001B[39;00m Path\n\u001B[1;32m      3\u001B[0m idx_path \u001B[38;5;241m=\u001B[39m Path\u001B[38;5;241m.\u001B[39mcwd() \u001B[38;5;241m/\u001B[39m \u001B[38;5;124m\"\u001B[39m\u001B[38;5;124m05_data\u001B[39m\u001B[38;5;124m\"\u001B[39m \u001B[38;5;241m/\u001B[39m \u001B[38;5;124m\"\u001B[39m\u001B[38;5;124mnfcorpus_index_with_blocks\u001B[39m\u001B[38;5;124m\"\u001B[39m\n\u001B[1;32m      4\u001B[0m \u001B[43mpt\u001B[49m\u001B[38;5;241;43m.\u001B[39;49m\u001B[43mindex\u001B[49m\u001B[38;5;241;43m.\u001B[39;49m\u001B[43mIterDictIndexer\u001B[49m\u001B[43m(\u001B[49m\n\u001B[1;32m      5\u001B[0m \u001B[43m    \u001B[49m\u001B[38;5;28;43mstr\u001B[39;49m\u001B[43m(\u001B[49m\u001B[43midx_path\u001B[49m\u001B[43m)\u001B[49m\u001B[43m,\u001B[49m\n\u001B[1;32m      6\u001B[0m \u001B[43m    \u001B[49m\u001B[43mblocks\u001B[49m\u001B[38;5;241;43m=\u001B[39;49m\u001B[38;5;28;43;01mTrue\u001B[39;49;00m\u001B[43m,\u001B[49m\n\u001B[1;32m      7\u001B[0m \u001B[43m    \u001B[49m\u001B[43mtext_attrs\u001B[49m\u001B[38;5;241;43m=\u001B[39;49m\u001B[43m[\u001B[49m\u001B[38;5;124;43m\"\u001B[39;49m\u001B[38;5;124;43mtitle\u001B[39;49m\u001B[38;5;124;43m\"\u001B[39;49m\u001B[43m,\u001B[49m\u001B[43m \u001B[49m\u001B[38;5;124;43m\"\u001B[39;49m\u001B[38;5;124;43mabstract\u001B[39;49m\u001B[38;5;124;43m\"\u001B[39;49m\u001B[43m,\u001B[49m\u001B[43m \u001B[49m\u001B[38;5;124;43m\"\u001B[39;49m\u001B[38;5;124;43murl\u001B[39;49m\u001B[38;5;124;43m\"\u001B[39;49m\u001B[43m]\u001B[49m\n\u001B[0;32m----> 8\u001B[0m \u001B[43m)\u001B[49m\u001B[38;5;241;43m.\u001B[39;49m\u001B[43mindex\u001B[49m\u001B[43m(\u001B[49m\u001B[43mdataset\u001B[49m\u001B[38;5;241;43m.\u001B[39;49m\u001B[43mget_corpus_iter\u001B[49m\u001B[43m(\u001B[49m\u001B[43m)\u001B[49m\u001B[43m)\u001B[49m\n",
      "File \u001B[0;32m~/projects/information-retrieval/venv/lib/python3.11/site-packages/pyterrier/utils.py:208\u001B[0m, in \u001B[0;36mpre_invocation_decorator.<locals>._decorator_wrapper.<locals>._wrapper\u001B[0;34m(*args, **kwargs)\u001B[0m\n\u001B[1;32m    205\u001B[0m \u001B[38;5;129m@wraps\u001B[39m(fn)\n\u001B[1;32m    206\u001B[0m \u001B[38;5;28;01mdef\u001B[39;00m\u001B[38;5;250m \u001B[39m\u001B[38;5;21m_wrapper\u001B[39m(\u001B[38;5;241m*\u001B[39margs, \u001B[38;5;241m*\u001B[39m\u001B[38;5;241m*\u001B[39mkwargs):\n\u001B[1;32m    207\u001B[0m     decorator(fn)\n\u001B[0;32m--> 208\u001B[0m     \u001B[38;5;28;01mreturn\u001B[39;00m \u001B[43mfn\u001B[49m\u001B[43m(\u001B[49m\u001B[38;5;241;43m*\u001B[39;49m\u001B[43margs\u001B[49m\u001B[43m,\u001B[49m\u001B[43m \u001B[49m\u001B[38;5;241;43m*\u001B[39;49m\u001B[38;5;241;43m*\u001B[39;49m\u001B[43mkwargs\u001B[49m\u001B[43m)\u001B[49m\n",
      "File \u001B[0;32m~/projects/information-retrieval/venv/lib/python3.11/site-packages/pyterrier/terrier/index.py:730\u001B[0m, in \u001B[0;36m_IterDictIndexer_fifo.index\u001B[0;34m(self, it, fields)\u001B[0m\n\u001B[1;32m    727\u001B[0m         \u001B[38;5;28;01mraise\u001B[39;00m \u001B[38;5;167;01mValueError\u001B[39;00m(\u001B[38;5;124m\"\u001B[39m\u001B[38;5;124mUse fields and text_attrs constructor kwargs\u001B[39m\u001B[38;5;124m\"\u001B[39m)\n\u001B[1;32m    728\u001B[0m     \u001B[38;5;28;01mraise\u001B[39;00m \u001B[38;5;167;01mValueError\u001B[39;00m(\u001B[38;5;124m\"\u001B[39m\u001B[38;5;124mSpecify the text attribute to index in the constructor.\u001B[39m\u001B[38;5;124m\"\u001B[39m)\n\u001B[0;32m--> 730\u001B[0m \u001B[38;5;28;43mself\u001B[39;49m\u001B[38;5;241;43m.\u001B[39;49m\u001B[43m_setup\u001B[49m\u001B[43m(\u001B[49m\u001B[43m)\u001B[49m\n\u001B[1;32m    732\u001B[0m os\u001B[38;5;241m.\u001B[39mmakedirs(\u001B[38;5;28mself\u001B[39m\u001B[38;5;241m.\u001B[39mindex_dir, exist_ok\u001B[38;5;241m=\u001B[39m\u001B[38;5;28;01mTrue\u001B[39;00m) \u001B[38;5;66;03m# ParallelIndexer expects the directory to exist\u001B[39;00m\n\u001B[1;32m    734\u001B[0m Indexer, Merger \u001B[38;5;241m=\u001B[39m \u001B[38;5;28mself\u001B[39m\u001B[38;5;241m.\u001B[39mindexerAndMergerClasses()\n",
      "File \u001B[0;32m~/projects/information-retrieval/venv/lib/python3.11/site-packages/pyterrier/terrier/index.py:581\u001B[0m, in \u001B[0;36m_BaseIterDictIndexer._setup\u001B[0;34m(self)\u001B[0m\n\u001B[1;32m    577\u001B[0m \u001B[38;5;28;01mdef\u001B[39;00m\u001B[38;5;250m \u001B[39m\u001B[38;5;21m_setup\u001B[39m(\u001B[38;5;28mself\u001B[39m):\n\u001B[1;32m    578\u001B[0m \u001B[38;5;250m    \u001B[39m\u001B[38;5;124;03m\"\"\"\u001B[39;00m\n\u001B[1;32m    579\u001B[0m \u001B[38;5;124;03m    Configure the indexing properties based on the current indexer configuration.\u001B[39;00m\n\u001B[1;32m    580\u001B[0m \u001B[38;5;124;03m    \"\"\"\u001B[39;00m\n\u001B[0;32m--> 581\u001B[0m     \u001B[38;5;28;43mself\u001B[39;49m\u001B[38;5;241;43m.\u001B[39;49m\u001B[43mcheckIndexExists\u001B[49m\u001B[43m(\u001B[49m\u001B[43m)\u001B[49m\n\u001B[1;32m    582\u001B[0m     \u001B[38;5;28;01mif\u001B[39;00m \u001B[38;5;129;01mnot\u001B[39;00m \u001B[38;5;28misinstance\u001B[39m(\u001B[38;5;28mself\u001B[39m\u001B[38;5;241m.\u001B[39mmeta, \u001B[38;5;28mdict\u001B[39m):\n\u001B[1;32m    583\u001B[0m         \u001B[38;5;66;03m# user did not specify the lengths of the metadata columns, so set them all to a default value of 512.\u001B[39;00m\n\u001B[1;32m    584\u001B[0m         \u001B[38;5;66;03m# the ramifications of setting all lengths to a large value is an overhead in memory usage during decompression\u001B[39;00m\n\u001B[1;32m    585\u001B[0m         \u001B[38;5;66;03m# also increased reverse lookup file if reverse meta lookups are enabled.\u001B[39;00m\n\u001B[1;32m    586\u001B[0m         \u001B[38;5;28mself\u001B[39m\u001B[38;5;241m.\u001B[39mmeta \u001B[38;5;241m=\u001B[39m {k: \u001B[38;5;124m'\u001B[39m\u001B[38;5;124m512\u001B[39m\u001B[38;5;124m'\u001B[39m \u001B[38;5;28;01mfor\u001B[39;00m k \u001B[38;5;129;01min\u001B[39;00m \u001B[38;5;28mself\u001B[39m\u001B[38;5;241m.\u001B[39mmeta}\n",
      "File \u001B[0;32m~/projects/information-retrieval/venv/lib/python3.11/site-packages/pyterrier/utils.py:208\u001B[0m, in \u001B[0;36mpre_invocation_decorator.<locals>._decorator_wrapper.<locals>._wrapper\u001B[0;34m(*args, **kwargs)\u001B[0m\n\u001B[1;32m    205\u001B[0m \u001B[38;5;129m@wraps\u001B[39m(fn)\n\u001B[1;32m    206\u001B[0m \u001B[38;5;28;01mdef\u001B[39;00m\u001B[38;5;250m \u001B[39m\u001B[38;5;21m_wrapper\u001B[39m(\u001B[38;5;241m*\u001B[39margs, \u001B[38;5;241m*\u001B[39m\u001B[38;5;241m*\u001B[39mkwargs):\n\u001B[1;32m    207\u001B[0m     decorator(fn)\n\u001B[0;32m--> 208\u001B[0m     \u001B[38;5;28;01mreturn\u001B[39;00m \u001B[43mfn\u001B[49m\u001B[43m(\u001B[49m\u001B[38;5;241;43m*\u001B[39;49m\u001B[43margs\u001B[49m\u001B[43m,\u001B[49m\u001B[43m \u001B[49m\u001B[38;5;241;43m*\u001B[39;49m\u001B[38;5;241;43m*\u001B[39;49m\u001B[43mkwargs\u001B[49m\u001B[43m)\u001B[49m\n",
      "File \u001B[0;32m~/projects/information-retrieval/venv/lib/python3.11/site-packages/pyterrier/terrier/index.py:303\u001B[0m, in \u001B[0;36mTerrierIndexer.checkIndexExists\u001B[0;34m(self)\u001B[0m\n\u001B[1;32m    301\u001B[0m \u001B[38;5;28;01mif\u001B[39;00m os\u001B[38;5;241m.\u001B[39mpath\u001B[38;5;241m.\u001B[39misfile(\u001B[38;5;28mself\u001B[39m\u001B[38;5;241m.\u001B[39mpath):\n\u001B[1;32m    302\u001B[0m     \u001B[38;5;28;01mif\u001B[39;00m \u001B[38;5;129;01mnot\u001B[39;00m \u001B[38;5;28mself\u001B[39m\u001B[38;5;241m.\u001B[39moverwrite:\n\u001B[0;32m--> 303\u001B[0m         \u001B[38;5;28;01mraise\u001B[39;00m \u001B[38;5;167;01mValueError\u001B[39;00m(\u001B[38;5;124m\"\u001B[39m\u001B[38;5;124mIndex already exists at \u001B[39m\u001B[38;5;124m\"\u001B[39m \u001B[38;5;241m+\u001B[39m \u001B[38;5;28mself\u001B[39m\u001B[38;5;241m.\u001B[39mpath)\n\u001B[1;32m    304\u001B[0m \u001B[38;5;28;01mif\u001B[39;00m \u001B[38;5;28mself\u001B[39m\u001B[38;5;241m.\u001B[39mindex_called:\n\u001B[1;32m    305\u001B[0m     \u001B[38;5;28;01mraise\u001B[39;00m \u001B[38;5;167;01mException\u001B[39;00m(\u001B[38;5;124m\"\u001B[39m\u001B[38;5;124mIndex method can be called only once\u001B[39m\u001B[38;5;124m\"\u001B[39m)\n",
      "\u001B[0;31mValueError\u001B[0m: Index already exists at /home/jim/projects/information-retrieval/intro-pyterrier/05_data/nfcorpus_index_with_blocks/data.properties"
     ]
    }
   ],
   "execution_count": 10
  },
  {
   "cell_type": "markdown",
   "metadata": {},
   "source": [
    "## Data format\n",
    "\n",
    "Recall that the queries (topics) of a dataset can be accessed using the `get_topics` method. For this dataset, there are multiple variants; we choose `title`:\n"
   ]
  },
  {
   "cell_type": "code",
   "metadata": {
    "ExecuteTime": {
     "end_time": "2025-02-20T14:18:10.975503Z",
     "start_time": "2025-02-20T14:18:10.954944Z"
    }
   },
   "source": [
    "queries = dataset.get_topics(variant=\"title\")\n",
    "queries"
   ],
   "outputs": [
    {
     "data": {
      "text/plain": [
       "            qid                                query\n",
       "0    PLAIN-1008                             deafness\n",
       "1    PLAIN-1018                                  dha\n",
       "2     PLAIN-102  stopping heart disease in childhood\n",
       "3    PLAIN-1028                      dietary scoring\n",
       "4    PLAIN-1039                          domoic acid\n",
       "..          ...                                  ...\n",
       "320   PLAIN-956                      cooking methods\n",
       "321   PLAIN-966                             cortisol\n",
       "322   PLAIN-977                           crib death\n",
       "323   PLAIN-987                                cumin\n",
       "324   PLAIN-997                       czechoslovakia\n",
       "\n",
       "[325 rows x 2 columns]"
      ],
      "text/html": [
       "<div>\n",
       "<style scoped>\n",
       "    .dataframe tbody tr th:only-of-type {\n",
       "        vertical-align: middle;\n",
       "    }\n",
       "\n",
       "    .dataframe tbody tr th {\n",
       "        vertical-align: top;\n",
       "    }\n",
       "\n",
       "    .dataframe thead th {\n",
       "        text-align: right;\n",
       "    }\n",
       "</style>\n",
       "<table border=\"1\" class=\"dataframe\">\n",
       "  <thead>\n",
       "    <tr style=\"text-align: right;\">\n",
       "      <th></th>\n",
       "      <th>qid</th>\n",
       "      <th>query</th>\n",
       "    </tr>\n",
       "  </thead>\n",
       "  <tbody>\n",
       "    <tr>\n",
       "      <th>0</th>\n",
       "      <td>PLAIN-1008</td>\n",
       "      <td>deafness</td>\n",
       "    </tr>\n",
       "    <tr>\n",
       "      <th>1</th>\n",
       "      <td>PLAIN-1018</td>\n",
       "      <td>dha</td>\n",
       "    </tr>\n",
       "    <tr>\n",
       "      <th>2</th>\n",
       "      <td>PLAIN-102</td>\n",
       "      <td>stopping heart disease in childhood</td>\n",
       "    </tr>\n",
       "    <tr>\n",
       "      <th>3</th>\n",
       "      <td>PLAIN-1028</td>\n",
       "      <td>dietary scoring</td>\n",
       "    </tr>\n",
       "    <tr>\n",
       "      <th>4</th>\n",
       "      <td>PLAIN-1039</td>\n",
       "      <td>domoic acid</td>\n",
       "    </tr>\n",
       "    <tr>\n",
       "      <th>...</th>\n",
       "      <td>...</td>\n",
       "      <td>...</td>\n",
       "    </tr>\n",
       "    <tr>\n",
       "      <th>320</th>\n",
       "      <td>PLAIN-956</td>\n",
       "      <td>cooking methods</td>\n",
       "    </tr>\n",
       "    <tr>\n",
       "      <th>321</th>\n",
       "      <td>PLAIN-966</td>\n",
       "      <td>cortisol</td>\n",
       "    </tr>\n",
       "    <tr>\n",
       "      <th>322</th>\n",
       "      <td>PLAIN-977</td>\n",
       "      <td>crib death</td>\n",
       "    </tr>\n",
       "    <tr>\n",
       "      <th>323</th>\n",
       "      <td>PLAIN-987</td>\n",
       "      <td>cumin</td>\n",
       "    </tr>\n",
       "    <tr>\n",
       "      <th>324</th>\n",
       "      <td>PLAIN-997</td>\n",
       "      <td>czechoslovakia</td>\n",
       "    </tr>\n",
       "  </tbody>\n",
       "</table>\n",
       "<p>325 rows × 2 columns</p>\n",
       "</div>"
      ]
     },
     "execution_count": 11,
     "metadata": {},
     "output_type": "execute_result"
    }
   ],
   "execution_count": 11
  },
  {
   "cell_type": "markdown",
   "metadata": {},
   "source": [
    "In general, PyTerrier represents all data as `pandas.DataFrame` objects.\n",
    "\n",
    "The method above outputs a data frame with two columns, `qid` and `query`. In PyTerrier, data frames of this format are referred to as _data type_ `Q`, and they essentially represent a set of queries, each of which has a unique identifier. In fact, we have already constructed our own `Q` data frames in the scaffolding project.\n",
    "\n",
    "There are some other data types, and we will introduce them throughout the rest of this series. You can find an overview [here](https://pyterrier.readthedocs.io/en/latest/datamodel.html).\n",
    "\n",
    "## Transformers\n",
    "\n",
    "_Transformers_ directly operate on these data frames; in other words, a transformer takes as input a data frame of some type and outputs another data frame (of the same or another type). We'll take a look at several pre-implemented transformers in this notebook.\n",
    "\n",
    "### Retrieval transformers\n",
    "\n",
    "Retrievers are the most common transformers, and we have already used them plenty throughout this introductory series. For example, let's take a BM25 model as before:\n"
   ]
  },
  {
   "cell_type": "code",
   "metadata": {
    "ExecuteTime": {
     "end_time": "2025-02-20T14:18:22.715911Z",
     "start_time": "2025-02-20T14:18:22.693486Z"
    }
   },
   "source": [
    "index = pt.IndexFactory.of(str(idx_path))\n",
    "bm25 = pt.terrier.Retriever(index, wmodel=\"BM25\")"
   ],
   "outputs": [],
   "execution_count": 12
  },
  {
   "cell_type": "markdown",
   "metadata": {},
   "source": [
    "This transformer consumes data of type `Q` and returns data of type `R` (i.e., columns `qid`, `docno`, `score`, `rank`), which corresponds to a ranking. The transformation can be invoked by calling the `transform` method:\n"
   ]
  },
  {
   "cell_type": "code",
   "metadata": {
    "ExecuteTime": {
     "end_time": "2025-02-20T14:18:25.871390Z",
     "start_time": "2025-02-20T14:18:24.565301Z"
    }
   },
   "source": [
    "bm25.transform(queries)"
   ],
   "outputs": [
    {
     "name": "stderr",
     "output_type": "stream",
     "text": [
      "nfcorpus/test documents:   0%|          | 0/5371 [12:16<?, ?it/s]\n",
      "nfcorpus/test documents:   0%|          | 0/5371 [00:40<?, ?it/s]\n"
     ]
    },
    {
     "data": {
      "text/plain": [
       "               qid  docid     docno  rank      score     query\n",
       "0       PLAIN-1008   4667  MED-4668     0  13.495859  deafness\n",
       "1       PLAIN-1018   5094  MED-5095     0  14.204196       dha\n",
       "2       PLAIN-1018    928   MED-929     1  14.033904       dha\n",
       "3       PLAIN-1018   4622  MED-4623     2  14.033904       dha\n",
       "4       PLAIN-1018   4930  MED-4931     3  14.033904       dha\n",
       "...            ...    ...       ...   ...        ...       ...\n",
       "143708   PLAIN-987   1292  MED-1293     2   9.748835     cumin\n",
       "143709   PLAIN-987    230   MED-231     3   8.698382     cumin\n",
       "143710   PLAIN-987    232   MED-233     4   8.698382     cumin\n",
       "143711   PLAIN-987   2827  MED-2828     5   8.698382     cumin\n",
       "143712   PLAIN-987   2829  MED-2830     6   8.698382     cumin\n",
       "\n",
       "[143713 rows x 6 columns]"
      ],
      "text/html": [
       "<div>\n",
       "<style scoped>\n",
       "    .dataframe tbody tr th:only-of-type {\n",
       "        vertical-align: middle;\n",
       "    }\n",
       "\n",
       "    .dataframe tbody tr th {\n",
       "        vertical-align: top;\n",
       "    }\n",
       "\n",
       "    .dataframe thead th {\n",
       "        text-align: right;\n",
       "    }\n",
       "</style>\n",
       "<table border=\"1\" class=\"dataframe\">\n",
       "  <thead>\n",
       "    <tr style=\"text-align: right;\">\n",
       "      <th></th>\n",
       "      <th>qid</th>\n",
       "      <th>docid</th>\n",
       "      <th>docno</th>\n",
       "      <th>rank</th>\n",
       "      <th>score</th>\n",
       "      <th>query</th>\n",
       "    </tr>\n",
       "  </thead>\n",
       "  <tbody>\n",
       "    <tr>\n",
       "      <th>0</th>\n",
       "      <td>PLAIN-1008</td>\n",
       "      <td>4667</td>\n",
       "      <td>MED-4668</td>\n",
       "      <td>0</td>\n",
       "      <td>13.495859</td>\n",
       "      <td>deafness</td>\n",
       "    </tr>\n",
       "    <tr>\n",
       "      <th>1</th>\n",
       "      <td>PLAIN-1018</td>\n",
       "      <td>5094</td>\n",
       "      <td>MED-5095</td>\n",
       "      <td>0</td>\n",
       "      <td>14.204196</td>\n",
       "      <td>dha</td>\n",
       "    </tr>\n",
       "    <tr>\n",
       "      <th>2</th>\n",
       "      <td>PLAIN-1018</td>\n",
       "      <td>928</td>\n",
       "      <td>MED-929</td>\n",
       "      <td>1</td>\n",
       "      <td>14.033904</td>\n",
       "      <td>dha</td>\n",
       "    </tr>\n",
       "    <tr>\n",
       "      <th>3</th>\n",
       "      <td>PLAIN-1018</td>\n",
       "      <td>4622</td>\n",
       "      <td>MED-4623</td>\n",
       "      <td>2</td>\n",
       "      <td>14.033904</td>\n",
       "      <td>dha</td>\n",
       "    </tr>\n",
       "    <tr>\n",
       "      <th>4</th>\n",
       "      <td>PLAIN-1018</td>\n",
       "      <td>4930</td>\n",
       "      <td>MED-4931</td>\n",
       "      <td>3</td>\n",
       "      <td>14.033904</td>\n",
       "      <td>dha</td>\n",
       "    </tr>\n",
       "    <tr>\n",
       "      <th>...</th>\n",
       "      <td>...</td>\n",
       "      <td>...</td>\n",
       "      <td>...</td>\n",
       "      <td>...</td>\n",
       "      <td>...</td>\n",
       "      <td>...</td>\n",
       "    </tr>\n",
       "    <tr>\n",
       "      <th>143708</th>\n",
       "      <td>PLAIN-987</td>\n",
       "      <td>1292</td>\n",
       "      <td>MED-1293</td>\n",
       "      <td>2</td>\n",
       "      <td>9.748835</td>\n",
       "      <td>cumin</td>\n",
       "    </tr>\n",
       "    <tr>\n",
       "      <th>143709</th>\n",
       "      <td>PLAIN-987</td>\n",
       "      <td>230</td>\n",
       "      <td>MED-231</td>\n",
       "      <td>3</td>\n",
       "      <td>8.698382</td>\n",
       "      <td>cumin</td>\n",
       "    </tr>\n",
       "    <tr>\n",
       "      <th>143710</th>\n",
       "      <td>PLAIN-987</td>\n",
       "      <td>232</td>\n",
       "      <td>MED-233</td>\n",
       "      <td>4</td>\n",
       "      <td>8.698382</td>\n",
       "      <td>cumin</td>\n",
       "    </tr>\n",
       "    <tr>\n",
       "      <th>143711</th>\n",
       "      <td>PLAIN-987</td>\n",
       "      <td>2827</td>\n",
       "      <td>MED-2828</td>\n",
       "      <td>5</td>\n",
       "      <td>8.698382</td>\n",
       "      <td>cumin</td>\n",
       "    </tr>\n",
       "    <tr>\n",
       "      <th>143712</th>\n",
       "      <td>PLAIN-987</td>\n",
       "      <td>2829</td>\n",
       "      <td>MED-2830</td>\n",
       "      <td>6</td>\n",
       "      <td>8.698382</td>\n",
       "      <td>cumin</td>\n",
       "    </tr>\n",
       "  </tbody>\n",
       "</table>\n",
       "<p>143713 rows × 6 columns</p>\n",
       "</div>"
      ]
     },
     "execution_count": 13,
     "metadata": {},
     "output_type": "execute_result"
    }
   ],
   "execution_count": 13
  },
  {
   "cell_type": "markdown",
   "metadata": {},
   "source": [
    "Note that our result is actually a superset of `R` (we have an additional column, `query`). In general, data frames may have more columns than a specific transformer requires, but they can still be used.\n",
    "\n",
    "Alternatively, the transformer can be called directly, as we have done so far, which gives the same result:\n"
   ]
  },
  {
   "cell_type": "code",
   "metadata": {
    "ExecuteTime": {
     "end_time": "2025-02-20T14:18:59.960303Z",
     "start_time": "2025-02-20T14:18:58.854579Z"
    }
   },
   "source": [
    "bm25(queries)"
   ],
   "outputs": [
    {
     "data": {
      "text/plain": [
       "               qid  docid     docno  rank      score     query\n",
       "0       PLAIN-1008   4667  MED-4668     0  13.495859  deafness\n",
       "1       PLAIN-1018   5094  MED-5095     0  14.204196       dha\n",
       "2       PLAIN-1018    928   MED-929     1  14.033904       dha\n",
       "3       PLAIN-1018   4622  MED-4623     2  14.033904       dha\n",
       "4       PLAIN-1018   4930  MED-4931     3  14.033904       dha\n",
       "...            ...    ...       ...   ...        ...       ...\n",
       "143708   PLAIN-987   1292  MED-1293     2   9.748835     cumin\n",
       "143709   PLAIN-987    230   MED-231     3   8.698382     cumin\n",
       "143710   PLAIN-987    232   MED-233     4   8.698382     cumin\n",
       "143711   PLAIN-987   2827  MED-2828     5   8.698382     cumin\n",
       "143712   PLAIN-987   2829  MED-2830     6   8.698382     cumin\n",
       "\n",
       "[143713 rows x 6 columns]"
      ],
      "text/html": [
       "<div>\n",
       "<style scoped>\n",
       "    .dataframe tbody tr th:only-of-type {\n",
       "        vertical-align: middle;\n",
       "    }\n",
       "\n",
       "    .dataframe tbody tr th {\n",
       "        vertical-align: top;\n",
       "    }\n",
       "\n",
       "    .dataframe thead th {\n",
       "        text-align: right;\n",
       "    }\n",
       "</style>\n",
       "<table border=\"1\" class=\"dataframe\">\n",
       "  <thead>\n",
       "    <tr style=\"text-align: right;\">\n",
       "      <th></th>\n",
       "      <th>qid</th>\n",
       "      <th>docid</th>\n",
       "      <th>docno</th>\n",
       "      <th>rank</th>\n",
       "      <th>score</th>\n",
       "      <th>query</th>\n",
       "    </tr>\n",
       "  </thead>\n",
       "  <tbody>\n",
       "    <tr>\n",
       "      <th>0</th>\n",
       "      <td>PLAIN-1008</td>\n",
       "      <td>4667</td>\n",
       "      <td>MED-4668</td>\n",
       "      <td>0</td>\n",
       "      <td>13.495859</td>\n",
       "      <td>deafness</td>\n",
       "    </tr>\n",
       "    <tr>\n",
       "      <th>1</th>\n",
       "      <td>PLAIN-1018</td>\n",
       "      <td>5094</td>\n",
       "      <td>MED-5095</td>\n",
       "      <td>0</td>\n",
       "      <td>14.204196</td>\n",
       "      <td>dha</td>\n",
       "    </tr>\n",
       "    <tr>\n",
       "      <th>2</th>\n",
       "      <td>PLAIN-1018</td>\n",
       "      <td>928</td>\n",
       "      <td>MED-929</td>\n",
       "      <td>1</td>\n",
       "      <td>14.033904</td>\n",
       "      <td>dha</td>\n",
       "    </tr>\n",
       "    <tr>\n",
       "      <th>3</th>\n",
       "      <td>PLAIN-1018</td>\n",
       "      <td>4622</td>\n",
       "      <td>MED-4623</td>\n",
       "      <td>2</td>\n",
       "      <td>14.033904</td>\n",
       "      <td>dha</td>\n",
       "    </tr>\n",
       "    <tr>\n",
       "      <th>4</th>\n",
       "      <td>PLAIN-1018</td>\n",
       "      <td>4930</td>\n",
       "      <td>MED-4931</td>\n",
       "      <td>3</td>\n",
       "      <td>14.033904</td>\n",
       "      <td>dha</td>\n",
       "    </tr>\n",
       "    <tr>\n",
       "      <th>...</th>\n",
       "      <td>...</td>\n",
       "      <td>...</td>\n",
       "      <td>...</td>\n",
       "      <td>...</td>\n",
       "      <td>...</td>\n",
       "      <td>...</td>\n",
       "    </tr>\n",
       "    <tr>\n",
       "      <th>143708</th>\n",
       "      <td>PLAIN-987</td>\n",
       "      <td>1292</td>\n",
       "      <td>MED-1293</td>\n",
       "      <td>2</td>\n",
       "      <td>9.748835</td>\n",
       "      <td>cumin</td>\n",
       "    </tr>\n",
       "    <tr>\n",
       "      <th>143709</th>\n",
       "      <td>PLAIN-987</td>\n",
       "      <td>230</td>\n",
       "      <td>MED-231</td>\n",
       "      <td>3</td>\n",
       "      <td>8.698382</td>\n",
       "      <td>cumin</td>\n",
       "    </tr>\n",
       "    <tr>\n",
       "      <th>143710</th>\n",
       "      <td>PLAIN-987</td>\n",
       "      <td>232</td>\n",
       "      <td>MED-233</td>\n",
       "      <td>4</td>\n",
       "      <td>8.698382</td>\n",
       "      <td>cumin</td>\n",
       "    </tr>\n",
       "    <tr>\n",
       "      <th>143711</th>\n",
       "      <td>PLAIN-987</td>\n",
       "      <td>2827</td>\n",
       "      <td>MED-2828</td>\n",
       "      <td>5</td>\n",
       "      <td>8.698382</td>\n",
       "      <td>cumin</td>\n",
       "    </tr>\n",
       "    <tr>\n",
       "      <th>143712</th>\n",
       "      <td>PLAIN-987</td>\n",
       "      <td>2829</td>\n",
       "      <td>MED-2830</td>\n",
       "      <td>6</td>\n",
       "      <td>8.698382</td>\n",
       "      <td>cumin</td>\n",
       "    </tr>\n",
       "  </tbody>\n",
       "</table>\n",
       "<p>143713 rows × 6 columns</p>\n",
       "</div>"
      ]
     },
     "execution_count": 14,
     "metadata": {},
     "output_type": "execute_result"
    }
   ],
   "execution_count": 14
  },
  {
   "cell_type": "markdown",
   "metadata": {},
   "source": [
    "Furthermore, transformers implement the `search` method, which processes a single query:\n"
   ]
  },
  {
   "cell_type": "code",
   "metadata": {
    "ExecuteTime": {
     "end_time": "2025-02-20T14:19:09.113458Z",
     "start_time": "2025-02-20T14:19:09.098263Z"
    }
   },
   "source": [
    "bm25.search(\"what is the meaning of life\")"
   ],
   "outputs": [
    {
     "data": {
      "text/plain": [
       "    qid  docid     docno  rank     score                        query\n",
       "0     1   2302  MED-2303     0  9.443163  what is the meaning of life\n",
       "1     1   2505  MED-2506     1  9.296906  what is the meaning of life\n",
       "2     1    257   MED-258     2  9.250432  what is the meaning of life\n",
       "3     1   2901  MED-2902     3  9.250432  what is the meaning of life\n",
       "4     1   3002  MED-3003     4  9.250432  what is the meaning of life\n",
       "..   ..    ...       ...   ...       ...                          ...\n",
       "995   1   3776  MED-3777   995  2.229604  what is the meaning of life\n",
       "996   1   3795  MED-3796   996  2.229604  what is the meaning of life\n",
       "997   1   4706  MED-4707   997  2.229604  what is the meaning of life\n",
       "998   1   4785  MED-4786   998  2.229604  what is the meaning of life\n",
       "999   1    938   MED-939   999  2.224531  what is the meaning of life\n",
       "\n",
       "[1000 rows x 6 columns]"
      ],
      "text/html": [
       "<div>\n",
       "<style scoped>\n",
       "    .dataframe tbody tr th:only-of-type {\n",
       "        vertical-align: middle;\n",
       "    }\n",
       "\n",
       "    .dataframe tbody tr th {\n",
       "        vertical-align: top;\n",
       "    }\n",
       "\n",
       "    .dataframe thead th {\n",
       "        text-align: right;\n",
       "    }\n",
       "</style>\n",
       "<table border=\"1\" class=\"dataframe\">\n",
       "  <thead>\n",
       "    <tr style=\"text-align: right;\">\n",
       "      <th></th>\n",
       "      <th>qid</th>\n",
       "      <th>docid</th>\n",
       "      <th>docno</th>\n",
       "      <th>rank</th>\n",
       "      <th>score</th>\n",
       "      <th>query</th>\n",
       "    </tr>\n",
       "  </thead>\n",
       "  <tbody>\n",
       "    <tr>\n",
       "      <th>0</th>\n",
       "      <td>1</td>\n",
       "      <td>2302</td>\n",
       "      <td>MED-2303</td>\n",
       "      <td>0</td>\n",
       "      <td>9.443163</td>\n",
       "      <td>what is the meaning of life</td>\n",
       "    </tr>\n",
       "    <tr>\n",
       "      <th>1</th>\n",
       "      <td>1</td>\n",
       "      <td>2505</td>\n",
       "      <td>MED-2506</td>\n",
       "      <td>1</td>\n",
       "      <td>9.296906</td>\n",
       "      <td>what is the meaning of life</td>\n",
       "    </tr>\n",
       "    <tr>\n",
       "      <th>2</th>\n",
       "      <td>1</td>\n",
       "      <td>257</td>\n",
       "      <td>MED-258</td>\n",
       "      <td>2</td>\n",
       "      <td>9.250432</td>\n",
       "      <td>what is the meaning of life</td>\n",
       "    </tr>\n",
       "    <tr>\n",
       "      <th>3</th>\n",
       "      <td>1</td>\n",
       "      <td>2901</td>\n",
       "      <td>MED-2902</td>\n",
       "      <td>3</td>\n",
       "      <td>9.250432</td>\n",
       "      <td>what is the meaning of life</td>\n",
       "    </tr>\n",
       "    <tr>\n",
       "      <th>4</th>\n",
       "      <td>1</td>\n",
       "      <td>3002</td>\n",
       "      <td>MED-3003</td>\n",
       "      <td>4</td>\n",
       "      <td>9.250432</td>\n",
       "      <td>what is the meaning of life</td>\n",
       "    </tr>\n",
       "    <tr>\n",
       "      <th>...</th>\n",
       "      <td>...</td>\n",
       "      <td>...</td>\n",
       "      <td>...</td>\n",
       "      <td>...</td>\n",
       "      <td>...</td>\n",
       "      <td>...</td>\n",
       "    </tr>\n",
       "    <tr>\n",
       "      <th>995</th>\n",
       "      <td>1</td>\n",
       "      <td>3776</td>\n",
       "      <td>MED-3777</td>\n",
       "      <td>995</td>\n",
       "      <td>2.229604</td>\n",
       "      <td>what is the meaning of life</td>\n",
       "    </tr>\n",
       "    <tr>\n",
       "      <th>996</th>\n",
       "      <td>1</td>\n",
       "      <td>3795</td>\n",
       "      <td>MED-3796</td>\n",
       "      <td>996</td>\n",
       "      <td>2.229604</td>\n",
       "      <td>what is the meaning of life</td>\n",
       "    </tr>\n",
       "    <tr>\n",
       "      <th>997</th>\n",
       "      <td>1</td>\n",
       "      <td>4706</td>\n",
       "      <td>MED-4707</td>\n",
       "      <td>997</td>\n",
       "      <td>2.229604</td>\n",
       "      <td>what is the meaning of life</td>\n",
       "    </tr>\n",
       "    <tr>\n",
       "      <th>998</th>\n",
       "      <td>1</td>\n",
       "      <td>4785</td>\n",
       "      <td>MED-4786</td>\n",
       "      <td>998</td>\n",
       "      <td>2.229604</td>\n",
       "      <td>what is the meaning of life</td>\n",
       "    </tr>\n",
       "    <tr>\n",
       "      <th>999</th>\n",
       "      <td>1</td>\n",
       "      <td>938</td>\n",
       "      <td>MED-939</td>\n",
       "      <td>999</td>\n",
       "      <td>2.224531</td>\n",
       "      <td>what is the meaning of life</td>\n",
       "    </tr>\n",
       "  </tbody>\n",
       "</table>\n",
       "<p>1000 rows × 6 columns</p>\n",
       "</div>"
      ]
     },
     "execution_count": 15,
     "metadata": {},
     "output_type": "execute_result"
    }
   ],
   "execution_count": 15
  },
  {
   "cell_type": "markdown",
   "metadata": {},
   "source": [
    "### Query rewriting transformers\n",
    "\n",
    "You have already experimented with query rewriting in the scaffolding project. PyTerrier implements several transformers that rewrite queries.\n",
    "\n",
    "The simplest one is the _sequential dependence model_:\n"
   ]
  },
  {
   "cell_type": "code",
   "metadata": {
    "ExecuteTime": {
     "end_time": "2025-02-20T14:21:03.992901Z",
     "start_time": "2025-02-20T14:21:03.989601Z"
    }
   },
   "source": [
    "sdm = pt.rewrite.SequentialDependence()"
   ],
   "outputs": [],
   "execution_count": 16
  },
  {
   "cell_type": "markdown",
   "metadata": {},
   "source": [
    "SDM requires positional information in the index (that's why we needed to set a flag during indexing). More information about SDM can be found [here](https://pyterrier.readthedocs.io/en/latest/rewrite.html#sequentialdependence).\n",
    "\n",
    "It operates solely on the queries themselves; in other words, both input and output are data frames of type `Q`:\n"
   ]
  },
  {
   "cell_type": "code",
   "metadata": {
    "ExecuteTime": {
     "end_time": "2025-02-20T14:21:06.033206Z",
     "start_time": "2025-02-20T14:21:05.857682Z"
    }
   },
   "source": [
    "sdm(queries)"
   ],
   "outputs": [
    {
     "data": {
      "text/plain": [
       "            qid                                              query  \\\n",
       "0    PLAIN-1008                                           deafness   \n",
       "1    PLAIN-1018                                                dha   \n",
       "2     PLAIN-102  stopping heart disease childhood #combine:0=0....   \n",
       "3    PLAIN-1028  dietary scoring #combine:0=0.1:wmodel=org.terr...   \n",
       "4    PLAIN-1039  domoic acid #combine:0=0.1:wmodel=org.terrier....   \n",
       "..          ...                                                ...   \n",
       "320   PLAIN-956  cooking methods #combine:0=0.1:wmodel=org.terr...   \n",
       "321   PLAIN-966                                           cortisol   \n",
       "322   PLAIN-977  crib death #combine:0=0.1:wmodel=org.terrier.m...   \n",
       "323   PLAIN-987                                              cumin   \n",
       "324   PLAIN-997                                     czechoslovakia   \n",
       "\n",
       "                                 query_0  \n",
       "0                               deafness  \n",
       "1                                    dha  \n",
       "2    stopping heart disease in childhood  \n",
       "3                        dietary scoring  \n",
       "4                            domoic acid  \n",
       "..                                   ...  \n",
       "320                      cooking methods  \n",
       "321                             cortisol  \n",
       "322                           crib death  \n",
       "323                                cumin  \n",
       "324                       czechoslovakia  \n",
       "\n",
       "[325 rows x 3 columns]"
      ],
      "text/html": [
       "<div>\n",
       "<style scoped>\n",
       "    .dataframe tbody tr th:only-of-type {\n",
       "        vertical-align: middle;\n",
       "    }\n",
       "\n",
       "    .dataframe tbody tr th {\n",
       "        vertical-align: top;\n",
       "    }\n",
       "\n",
       "    .dataframe thead th {\n",
       "        text-align: right;\n",
       "    }\n",
       "</style>\n",
       "<table border=\"1\" class=\"dataframe\">\n",
       "  <thead>\n",
       "    <tr style=\"text-align: right;\">\n",
       "      <th></th>\n",
       "      <th>qid</th>\n",
       "      <th>query</th>\n",
       "      <th>query_0</th>\n",
       "    </tr>\n",
       "  </thead>\n",
       "  <tbody>\n",
       "    <tr>\n",
       "      <th>0</th>\n",
       "      <td>PLAIN-1008</td>\n",
       "      <td>deafness</td>\n",
       "      <td>deafness</td>\n",
       "    </tr>\n",
       "    <tr>\n",
       "      <th>1</th>\n",
       "      <td>PLAIN-1018</td>\n",
       "      <td>dha</td>\n",
       "      <td>dha</td>\n",
       "    </tr>\n",
       "    <tr>\n",
       "      <th>2</th>\n",
       "      <td>PLAIN-102</td>\n",
       "      <td>stopping heart disease childhood #combine:0=0....</td>\n",
       "      <td>stopping heart disease in childhood</td>\n",
       "    </tr>\n",
       "    <tr>\n",
       "      <th>3</th>\n",
       "      <td>PLAIN-1028</td>\n",
       "      <td>dietary scoring #combine:0=0.1:wmodel=org.terr...</td>\n",
       "      <td>dietary scoring</td>\n",
       "    </tr>\n",
       "    <tr>\n",
       "      <th>4</th>\n",
       "      <td>PLAIN-1039</td>\n",
       "      <td>domoic acid #combine:0=0.1:wmodel=org.terrier....</td>\n",
       "      <td>domoic acid</td>\n",
       "    </tr>\n",
       "    <tr>\n",
       "      <th>...</th>\n",
       "      <td>...</td>\n",
       "      <td>...</td>\n",
       "      <td>...</td>\n",
       "    </tr>\n",
       "    <tr>\n",
       "      <th>320</th>\n",
       "      <td>PLAIN-956</td>\n",
       "      <td>cooking methods #combine:0=0.1:wmodel=org.terr...</td>\n",
       "      <td>cooking methods</td>\n",
       "    </tr>\n",
       "    <tr>\n",
       "      <th>321</th>\n",
       "      <td>PLAIN-966</td>\n",
       "      <td>cortisol</td>\n",
       "      <td>cortisol</td>\n",
       "    </tr>\n",
       "    <tr>\n",
       "      <th>322</th>\n",
       "      <td>PLAIN-977</td>\n",
       "      <td>crib death #combine:0=0.1:wmodel=org.terrier.m...</td>\n",
       "      <td>crib death</td>\n",
       "    </tr>\n",
       "    <tr>\n",
       "      <th>323</th>\n",
       "      <td>PLAIN-987</td>\n",
       "      <td>cumin</td>\n",
       "      <td>cumin</td>\n",
       "    </tr>\n",
       "    <tr>\n",
       "      <th>324</th>\n",
       "      <td>PLAIN-997</td>\n",
       "      <td>czechoslovakia</td>\n",
       "      <td>czechoslovakia</td>\n",
       "    </tr>\n",
       "  </tbody>\n",
       "</table>\n",
       "<p>325 rows × 3 columns</p>\n",
       "</div>"
      ]
     },
     "execution_count": 17,
     "metadata": {},
     "output_type": "execute_result"
    }
   ],
   "execution_count": 17
  },
  {
   "cell_type": "markdown",
   "metadata": {},
   "source": [
    "In this case, the `query` column contains the new (rewritten) queries, while the original queries are retained in the `query_0` column.\n",
    "\n",
    "#### Query expansion\n",
    "\n",
    "_Query expansion_ differs from standard query rewriting in that it operates on queries **and** corresponding relevant documents (these need to be retrieved based on the original queries prior to the expansion). This is also known as _pseudo relevance feedback_ (PRF). A popular PRF model is _RM3_:\n"
   ]
  },
  {
   "cell_type": "code",
   "metadata": {
    "ExecuteTime": {
     "end_time": "2025-02-20T14:21:41.173062Z",
     "start_time": "2025-02-20T14:21:41.160479Z"
    }
   },
   "source": [
    "rm3 = pt.rewrite.RM3(index)"
   ],
   "outputs": [],
   "execution_count": 18
  },
  {
   "cell_type": "markdown",
   "metadata": {},
   "source": [
    "Since RM3 requires a set of documents for each query, its input type needs to be `R`. Consequently, we can use the result of our retriever as an input for the PRF model:\n"
   ]
  },
  {
   "cell_type": "code",
   "metadata": {
    "ExecuteTime": {
     "end_time": "2025-02-20T14:22:42.753398Z",
     "start_time": "2025-02-20T14:22:39.924105Z"
    }
   },
   "source": [
    "rm3(bm25(queries))"
   ],
   "outputs": [
    {
     "data": {
      "text/plain": [
       "            qid                              query_0  \\\n",
       "0    PLAIN-1008                             deafness   \n",
       "1    PLAIN-1018                                  dha   \n",
       "2     PLAIN-102  stopping heart disease in childhood   \n",
       "3    PLAIN-1028                      dietary scoring   \n",
       "4    PLAIN-1039                          domoic acid   \n",
       "..          ...                                  ...   \n",
       "304   PLAIN-946                                 coma   \n",
       "305   PLAIN-956                      cooking methods   \n",
       "306   PLAIN-966                             cortisol   \n",
       "307   PLAIN-977                           crib death   \n",
       "308   PLAIN-987                                cumin   \n",
       "\n",
       "                                                 query  \n",
       "0    applypipeline:off disord^0.027586209 common^0....  \n",
       "1    applypipeline:off bioequival^0.020499697 cook^...  \n",
       "2    applypipeline:off lifestyl^0.048583586 stop^0....  \n",
       "3    applypipeline:off dietari^0.300000012 ea^0.024...  \n",
       "4    applypipeline:off monitor^0.023915010 domoic^0...  \n",
       "..                                                 ...  \n",
       "304  applypipeline:off neurotox^0.032408789 domoic^...  \n",
       "305  applypipeline:off solubl^0.024124809 loss^0.03...  \n",
       "306  applypipeline:off flora^0.026397638 stress^0.1...  \n",
       "307  applypipeline:off death^0.441940337 million^0....  \n",
       "308  applypipeline:off solubl^0.055681255 spice^0.0...  \n",
       "\n",
       "[309 rows x 3 columns]"
      ],
      "text/html": [
       "<div>\n",
       "<style scoped>\n",
       "    .dataframe tbody tr th:only-of-type {\n",
       "        vertical-align: middle;\n",
       "    }\n",
       "\n",
       "    .dataframe tbody tr th {\n",
       "        vertical-align: top;\n",
       "    }\n",
       "\n",
       "    .dataframe thead th {\n",
       "        text-align: right;\n",
       "    }\n",
       "</style>\n",
       "<table border=\"1\" class=\"dataframe\">\n",
       "  <thead>\n",
       "    <tr style=\"text-align: right;\">\n",
       "      <th></th>\n",
       "      <th>qid</th>\n",
       "      <th>query_0</th>\n",
       "      <th>query</th>\n",
       "    </tr>\n",
       "  </thead>\n",
       "  <tbody>\n",
       "    <tr>\n",
       "      <th>0</th>\n",
       "      <td>PLAIN-1008</td>\n",
       "      <td>deafness</td>\n",
       "      <td>applypipeline:off disord^0.027586209 common^0....</td>\n",
       "    </tr>\n",
       "    <tr>\n",
       "      <th>1</th>\n",
       "      <td>PLAIN-1018</td>\n",
       "      <td>dha</td>\n",
       "      <td>applypipeline:off bioequival^0.020499697 cook^...</td>\n",
       "    </tr>\n",
       "    <tr>\n",
       "      <th>2</th>\n",
       "      <td>PLAIN-102</td>\n",
       "      <td>stopping heart disease in childhood</td>\n",
       "      <td>applypipeline:off lifestyl^0.048583586 stop^0....</td>\n",
       "    </tr>\n",
       "    <tr>\n",
       "      <th>3</th>\n",
       "      <td>PLAIN-1028</td>\n",
       "      <td>dietary scoring</td>\n",
       "      <td>applypipeline:off dietari^0.300000012 ea^0.024...</td>\n",
       "    </tr>\n",
       "    <tr>\n",
       "      <th>4</th>\n",
       "      <td>PLAIN-1039</td>\n",
       "      <td>domoic acid</td>\n",
       "      <td>applypipeline:off monitor^0.023915010 domoic^0...</td>\n",
       "    </tr>\n",
       "    <tr>\n",
       "      <th>...</th>\n",
       "      <td>...</td>\n",
       "      <td>...</td>\n",
       "      <td>...</td>\n",
       "    </tr>\n",
       "    <tr>\n",
       "      <th>304</th>\n",
       "      <td>PLAIN-946</td>\n",
       "      <td>coma</td>\n",
       "      <td>applypipeline:off neurotox^0.032408789 domoic^...</td>\n",
       "    </tr>\n",
       "    <tr>\n",
       "      <th>305</th>\n",
       "      <td>PLAIN-956</td>\n",
       "      <td>cooking methods</td>\n",
       "      <td>applypipeline:off solubl^0.024124809 loss^0.03...</td>\n",
       "    </tr>\n",
       "    <tr>\n",
       "      <th>306</th>\n",
       "      <td>PLAIN-966</td>\n",
       "      <td>cortisol</td>\n",
       "      <td>applypipeline:off flora^0.026397638 stress^0.1...</td>\n",
       "    </tr>\n",
       "    <tr>\n",
       "      <th>307</th>\n",
       "      <td>PLAIN-977</td>\n",
       "      <td>crib death</td>\n",
       "      <td>applypipeline:off death^0.441940337 million^0....</td>\n",
       "    </tr>\n",
       "    <tr>\n",
       "      <th>308</th>\n",
       "      <td>PLAIN-987</td>\n",
       "      <td>cumin</td>\n",
       "      <td>applypipeline:off solubl^0.055681255 spice^0.0...</td>\n",
       "    </tr>\n",
       "  </tbody>\n",
       "</table>\n",
       "<p>309 rows × 3 columns</p>\n",
       "</div>"
      ]
     },
     "execution_count": 19,
     "metadata": {},
     "output_type": "execute_result"
    }
   ],
   "execution_count": 19
  },
  {
   "cell_type": "markdown",
   "metadata": {},
   "source": [
    "## Pipelines\n",
    "\n",
    "You probably noticed that the transformers we've seen so far are mostly designed to work in sequence; for example, reformulating queries alone is pointless without an actual retrieval step afterwards.\n",
    "\n",
    "This is where _pipelines_ come into play. PyTerrier implements the `>>` operator to build sequences of transformers. Let's build a simple pipeline that applies SDM and then retrieves documents using BM25:\n"
   ]
  },
  {
   "cell_type": "code",
   "metadata": {
    "ExecuteTime": {
     "end_time": "2025-02-20T14:23:10.004878Z",
     "start_time": "2025-02-20T14:23:10.003187Z"
    }
   },
   "source": [
    "pl_sdm = sdm >> bm25"
   ],
   "outputs": [],
   "execution_count": 20
  },
  {
   "cell_type": "markdown",
   "metadata": {},
   "source": [
    "We can now use this pipeline like any other transformer:\n"
   ]
  },
  {
   "cell_type": "code",
   "metadata": {
    "ExecuteTime": {
     "end_time": "2025-02-20T14:23:12.890311Z",
     "start_time": "2025-02-20T14:23:11.530994Z"
    }
   },
   "source": [
    "pl_sdm(queries)"
   ],
   "outputs": [
    {
     "data": {
      "text/plain": [
       "               qid  docid     docno  rank      score     query   query_0\n",
       "0       PLAIN-1008   4667  MED-4668     0  13.495859  deafness  deafness\n",
       "1       PLAIN-1018   5094  MED-5095     0  14.204196       dha       dha\n",
       "2       PLAIN-1018    928   MED-929     1  14.033904       dha       dha\n",
       "3       PLAIN-1018   4622  MED-4623     2  14.033904       dha       dha\n",
       "4       PLAIN-1018   4930  MED-4931     3  14.033904       dha       dha\n",
       "...            ...    ...       ...   ...        ...       ...       ...\n",
       "143708   PLAIN-987   1292  MED-1293     2   9.748835     cumin     cumin\n",
       "143709   PLAIN-987    230   MED-231     3   8.698382     cumin     cumin\n",
       "143710   PLAIN-987    232   MED-233     4   8.698382     cumin     cumin\n",
       "143711   PLAIN-987   2827  MED-2828     5   8.698382     cumin     cumin\n",
       "143712   PLAIN-987   2829  MED-2830     6   8.698382     cumin     cumin\n",
       "\n",
       "[143713 rows x 7 columns]"
      ],
      "text/html": [
       "<div>\n",
       "<style scoped>\n",
       "    .dataframe tbody tr th:only-of-type {\n",
       "        vertical-align: middle;\n",
       "    }\n",
       "\n",
       "    .dataframe tbody tr th {\n",
       "        vertical-align: top;\n",
       "    }\n",
       "\n",
       "    .dataframe thead th {\n",
       "        text-align: right;\n",
       "    }\n",
       "</style>\n",
       "<table border=\"1\" class=\"dataframe\">\n",
       "  <thead>\n",
       "    <tr style=\"text-align: right;\">\n",
       "      <th></th>\n",
       "      <th>qid</th>\n",
       "      <th>docid</th>\n",
       "      <th>docno</th>\n",
       "      <th>rank</th>\n",
       "      <th>score</th>\n",
       "      <th>query</th>\n",
       "      <th>query_0</th>\n",
       "    </tr>\n",
       "  </thead>\n",
       "  <tbody>\n",
       "    <tr>\n",
       "      <th>0</th>\n",
       "      <td>PLAIN-1008</td>\n",
       "      <td>4667</td>\n",
       "      <td>MED-4668</td>\n",
       "      <td>0</td>\n",
       "      <td>13.495859</td>\n",
       "      <td>deafness</td>\n",
       "      <td>deafness</td>\n",
       "    </tr>\n",
       "    <tr>\n",
       "      <th>1</th>\n",
       "      <td>PLAIN-1018</td>\n",
       "      <td>5094</td>\n",
       "      <td>MED-5095</td>\n",
       "      <td>0</td>\n",
       "      <td>14.204196</td>\n",
       "      <td>dha</td>\n",
       "      <td>dha</td>\n",
       "    </tr>\n",
       "    <tr>\n",
       "      <th>2</th>\n",
       "      <td>PLAIN-1018</td>\n",
       "      <td>928</td>\n",
       "      <td>MED-929</td>\n",
       "      <td>1</td>\n",
       "      <td>14.033904</td>\n",
       "      <td>dha</td>\n",
       "      <td>dha</td>\n",
       "    </tr>\n",
       "    <tr>\n",
       "      <th>3</th>\n",
       "      <td>PLAIN-1018</td>\n",
       "      <td>4622</td>\n",
       "      <td>MED-4623</td>\n",
       "      <td>2</td>\n",
       "      <td>14.033904</td>\n",
       "      <td>dha</td>\n",
       "      <td>dha</td>\n",
       "    </tr>\n",
       "    <tr>\n",
       "      <th>4</th>\n",
       "      <td>PLAIN-1018</td>\n",
       "      <td>4930</td>\n",
       "      <td>MED-4931</td>\n",
       "      <td>3</td>\n",
       "      <td>14.033904</td>\n",
       "      <td>dha</td>\n",
       "      <td>dha</td>\n",
       "    </tr>\n",
       "    <tr>\n",
       "      <th>...</th>\n",
       "      <td>...</td>\n",
       "      <td>...</td>\n",
       "      <td>...</td>\n",
       "      <td>...</td>\n",
       "      <td>...</td>\n",
       "      <td>...</td>\n",
       "      <td>...</td>\n",
       "    </tr>\n",
       "    <tr>\n",
       "      <th>143708</th>\n",
       "      <td>PLAIN-987</td>\n",
       "      <td>1292</td>\n",
       "      <td>MED-1293</td>\n",
       "      <td>2</td>\n",
       "      <td>9.748835</td>\n",
       "      <td>cumin</td>\n",
       "      <td>cumin</td>\n",
       "    </tr>\n",
       "    <tr>\n",
       "      <th>143709</th>\n",
       "      <td>PLAIN-987</td>\n",
       "      <td>230</td>\n",
       "      <td>MED-231</td>\n",
       "      <td>3</td>\n",
       "      <td>8.698382</td>\n",
       "      <td>cumin</td>\n",
       "      <td>cumin</td>\n",
       "    </tr>\n",
       "    <tr>\n",
       "      <th>143710</th>\n",
       "      <td>PLAIN-987</td>\n",
       "      <td>232</td>\n",
       "      <td>MED-233</td>\n",
       "      <td>4</td>\n",
       "      <td>8.698382</td>\n",
       "      <td>cumin</td>\n",
       "      <td>cumin</td>\n",
       "    </tr>\n",
       "    <tr>\n",
       "      <th>143711</th>\n",
       "      <td>PLAIN-987</td>\n",
       "      <td>2827</td>\n",
       "      <td>MED-2828</td>\n",
       "      <td>5</td>\n",
       "      <td>8.698382</td>\n",
       "      <td>cumin</td>\n",
       "      <td>cumin</td>\n",
       "    </tr>\n",
       "    <tr>\n",
       "      <th>143712</th>\n",
       "      <td>PLAIN-987</td>\n",
       "      <td>2829</td>\n",
       "      <td>MED-2830</td>\n",
       "      <td>6</td>\n",
       "      <td>8.698382</td>\n",
       "      <td>cumin</td>\n",
       "      <td>cumin</td>\n",
       "    </tr>\n",
       "  </tbody>\n",
       "</table>\n",
       "<p>143713 rows × 7 columns</p>\n",
       "</div>"
      ]
     },
     "execution_count": 21,
     "metadata": {},
     "output_type": "execute_result"
    }
   ],
   "execution_count": 21
  },
  {
   "cell_type": "markdown",
   "metadata": {},
   "source": [
    "Let's compare SDM and RM3 in terms of performance.\n",
    "\n",
    "First, we create a pipeline for RM3:\n"
   ]
  },
  {
   "cell_type": "code",
   "metadata": {
    "ExecuteTime": {
     "end_time": "2025-02-20T14:23:18.809768Z",
     "start_time": "2025-02-20T14:23:18.808146Z"
    }
   },
   "source": [
    "pl_rm3 = bm25 >> rm3 >> bm25"
   ],
   "outputs": [],
   "execution_count": 22
  },
  {
   "cell_type": "markdown",
   "metadata": {},
   "source": [
    "Now we can run an experiment to evaluate and compare both of these pipelines. We'll also include standalone BM25:\n"
   ]
  },
  {
   "cell_type": "code",
   "metadata": {
    "ExecuteTime": {
     "end_time": "2025-02-20T14:23:29.860295Z",
     "start_time": "2025-02-20T14:23:20.938316Z"
    }
   },
   "source": [
    "from pyterrier.measures import MAP, nDCG\n",
    "\n",
    "pt.Experiment(\n",
    "    [bm25, pl_sdm, pl_rm3],\n",
    "    queries,\n",
    "    dataset.get_qrels(),\n",
    "    names=[\"BM25\", \"SDM >> BM25\", \"BM25 >> RM3 >> BM25\"],\n",
    "    eval_metrics=[MAP, nDCG @ 10],\n",
    ")"
   ],
   "outputs": [
    {
     "data": {
      "text/plain": [
       "                  name        AP   nDCG@10\n",
       "0                 BM25  0.113101  0.265752\n",
       "1          SDM >> BM25  0.112938  0.265869\n",
       "2  BM25 >> RM3 >> BM25  0.127949  0.278338"
      ],
      "text/html": [
       "<div>\n",
       "<style scoped>\n",
       "    .dataframe tbody tr th:only-of-type {\n",
       "        vertical-align: middle;\n",
       "    }\n",
       "\n",
       "    .dataframe tbody tr th {\n",
       "        vertical-align: top;\n",
       "    }\n",
       "\n",
       "    .dataframe thead th {\n",
       "        text-align: right;\n",
       "    }\n",
       "</style>\n",
       "<table border=\"1\" class=\"dataframe\">\n",
       "  <thead>\n",
       "    <tr style=\"text-align: right;\">\n",
       "      <th></th>\n",
       "      <th>name</th>\n",
       "      <th>AP</th>\n",
       "      <th>nDCG@10</th>\n",
       "    </tr>\n",
       "  </thead>\n",
       "  <tbody>\n",
       "    <tr>\n",
       "      <th>0</th>\n",
       "      <td>BM25</td>\n",
       "      <td>0.113101</td>\n",
       "      <td>0.265752</td>\n",
       "    </tr>\n",
       "    <tr>\n",
       "      <th>1</th>\n",
       "      <td>SDM &gt;&gt; BM25</td>\n",
       "      <td>0.112938</td>\n",
       "      <td>0.265869</td>\n",
       "    </tr>\n",
       "    <tr>\n",
       "      <th>2</th>\n",
       "      <td>BM25 &gt;&gt; RM3 &gt;&gt; BM25</td>\n",
       "      <td>0.127949</td>\n",
       "      <td>0.278338</td>\n",
       "    </tr>\n",
       "  </tbody>\n",
       "</table>\n",
       "</div>"
      ]
     },
     "execution_count": 23,
     "metadata": {},
     "output_type": "execute_result"
    }
   ],
   "execution_count": 23
  },
  {
   "cell_type": "markdown",
   "metadata": {},
   "source": [
    "### Caching\n",
    "\n",
    "Caching the outputs of a transformer can be useful when it is part of a pipeline that is executed multiple times. PyTerrier supports caching via a plugin, `pyterrier-caching`, which we have already installed above.\n",
    "\n",
    "Let's time our BM25 retriever without caching first:\n"
   ]
  },
  {
   "cell_type": "code",
   "metadata": {
    "ExecuteTime": {
     "end_time": "2025-02-20T14:23:53.244926Z",
     "start_time": "2025-02-20T14:23:44.959219Z"
    }
   },
   "source": [
    "%timeit bm25(queries)"
   ],
   "outputs": [
    {
     "name": "stdout",
     "output_type": "stream",
     "text": [
      "1.02 s ± 6.39 ms per loop (mean ± std. dev. of 7 runs, 1 loop each)\n"
     ]
    }
   ],
   "execution_count": 24
  },
  {
   "cell_type": "markdown",
   "metadata": {},
   "source": [
    "We can create a cached version of this retriever using `RetrieverCache`. The results are cached in a directory of our choosing (`bm25_cache`):\n"
   ]
  },
  {
   "cell_type": "code",
   "metadata": {
    "ExecuteTime": {
     "end_time": "2025-02-20T14:23:57.487717Z",
     "start_time": "2025-02-20T14:23:57.470692Z"
    }
   },
   "source": [
    "from pyterrier_caching import RetrieverCache\n",
    "\n",
    "bm25_cached = RetrieverCache(Path.cwd() / \"05_data\" / \"bm25_cache\", bm25)"
   ],
   "outputs": [],
   "execution_count": 25
  },
  {
   "cell_type": "markdown",
   "metadata": {},
   "source": [
    "Now we can compare the latency of our cached retriever with the uncached version:\n"
   ]
  },
  {
   "cell_type": "code",
   "metadata": {
    "ExecuteTime": {
     "end_time": "2025-02-20T14:24:01.700557Z",
     "start_time": "2025-02-20T14:23:59.707617Z"
    }
   },
   "source": [
    "%timeit bm25_cached(queries)"
   ],
   "outputs": [
    {
     "name": "stderr",
     "output_type": "stream",
     "text": [
      "/home/jim/projects/information-retrieval/venv/lib/python3.11/site-packages/pyterrier_caching/retriever_cache.py:82: FutureWarning: The behavior of DataFrame concatenation with empty or all-NA entries is deprecated. In a future version, this will no longer exclude empty or all-NA columns when determining the result dtypes. To retain the old behavior, exclude the relevant entries before the concat operation.\n",
      "  return pd.concat(results, ignore_index=True)\n"
     ]
    },
    {
     "name": "stdout",
     "output_type": "stream",
     "text": [
      "76.4 ms ± 1.3 ms per loop (mean ± std. dev. of 7 runs, 1 loop each)\n"
     ]
    }
   ],
   "execution_count": 26
  },
  {
   "cell_type": "markdown",
   "metadata": {},
   "source": [
    "An overview of the available caches can be found in the [documentation](https://pyterrier.readthedocs.io/en/latest/ext/pyterrier-caching/index.html).\n",
    "\n",
    "**Important**: When you use caching, make sure to clear the cache when you make changes to the transformers you cached. Otherwise, you might get unexpected results.\n"
   ]
  },
  {
   "cell_type": "markdown",
   "metadata": {},
   "source": [
    "### Operators\n",
    "\n",
    "There are a number of _operators_ that can be applied to transformers within pipelines. We've already seen the `>>` operator. Here, we'll look at a few more selected operators. You can find the complete list [here](https://pyterrier.readthedocs.io/en/latest/operators.html).\n",
    "\n",
    "#### Rank cutoff\n",
    "\n",
    "The `%` operator limits how many documents per query are kept (the lowest-scoring ones are removed). For example, we may want to consider only a single document for RM3:\n"
   ]
  },
  {
   "cell_type": "code",
   "metadata": {
    "ExecuteTime": {
     "end_time": "2025-02-20T14:27:38.495848Z",
     "start_time": "2025-02-20T14:27:29.060222Z"
    }
   },
   "source": [
    "pl_rm3_1doc = (bm25 % 1) >> rm3 >> bm25\n",
    "\n",
    "pt.Experiment(\n",
    "    [pl_rm3, pl_rm3_1doc],\n",
    "    queries,\n",
    "    dataset.get_qrels(),\n",
    "    names=[\"RM3\", \"RM3 (1 document)\"],\n",
    "    eval_metrics=[MAP, nDCG @ 10],\n",
    ")"
   ],
   "outputs": [
    {
     "data": {
      "text/plain": [
       "               name        AP   nDCG@10\n",
       "0               RM3  0.127949  0.278338\n",
       "1  RM3 (1 document)  0.127798  0.278438"
      ],
      "text/html": [
       "<div>\n",
       "<style scoped>\n",
       "    .dataframe tbody tr th:only-of-type {\n",
       "        vertical-align: middle;\n",
       "    }\n",
       "\n",
       "    .dataframe tbody tr th {\n",
       "        vertical-align: top;\n",
       "    }\n",
       "\n",
       "    .dataframe thead th {\n",
       "        text-align: right;\n",
       "    }\n",
       "</style>\n",
       "<table border=\"1\" class=\"dataframe\">\n",
       "  <thead>\n",
       "    <tr style=\"text-align: right;\">\n",
       "      <th></th>\n",
       "      <th>name</th>\n",
       "      <th>AP</th>\n",
       "      <th>nDCG@10</th>\n",
       "    </tr>\n",
       "  </thead>\n",
       "  <tbody>\n",
       "    <tr>\n",
       "      <th>0</th>\n",
       "      <td>RM3</td>\n",
       "      <td>0.127949</td>\n",
       "      <td>0.278338</td>\n",
       "    </tr>\n",
       "    <tr>\n",
       "      <th>1</th>\n",
       "      <td>RM3 (1 document)</td>\n",
       "      <td>0.127798</td>\n",
       "      <td>0.278438</td>\n",
       "    </tr>\n",
       "  </tbody>\n",
       "</table>\n",
       "</div>"
      ]
     },
     "execution_count": 27,
     "metadata": {},
     "output_type": "execute_result"
    }
   ],
   "execution_count": 27
  },
  {
   "cell_type": "markdown",
   "metadata": {},
   "source": [
    "#### Combining rankings\n",
    "\n",
    "The `+` and `*` operators can be used to linearly combine two transformers that output rankings (data type `R`). For example, we can use two different retrievers and combine them as follows:\n"
   ]
  },
  {
   "cell_type": "code",
   "execution_count": null,
   "metadata": {},
   "outputs": [],
   "source": [
    "tf_idf = pt.terrier.Retriever(index, wmodel=\"TF_IDF\")\n",
    "\n",
    "pt.Experiment(\n",
    "    [tf_idf, bm25, 2 * tf_idf + bm25],\n",
    "    queries,\n",
    "    dataset.get_qrels(),\n",
    "    names=[\"TF-IDF\", \"BM25\", \"2 * TF-IDF + BM25\"],\n",
    "    eval_metrics=[MAP, nDCG @ 10],\n",
    ")"
   ]
  },
  {
   "cell_type": "markdown",
   "metadata": {},
   "source": [
    "Note that the operations are applied to the scores computed by the retrievers. If a document is missing for one of the retrievers, a score of `0` is used.\n",
    "\n",
    "### Compiling pipelines\n",
    "\n",
    "Pipelines can be compiled. The compilation may improve the efficiency for certain operations. For example, consider the following:\n"
   ]
  },
  {
   "cell_type": "code",
   "execution_count": 23,
   "metadata": {},
   "outputs": [],
   "source": [
    "pl = bm25 % 3\n",
    "pl_compiled = pl.compile()"
   ]
  },
  {
   "cell_type": "markdown",
   "metadata": {},
   "source": [
    "Let's time them both:\n"
   ]
  },
  {
   "cell_type": "code",
   "execution_count": null,
   "metadata": {},
   "outputs": [],
   "source": [
    "%timeit pl(queries)"
   ]
  },
  {
   "cell_type": "code",
   "execution_count": null,
   "metadata": {},
   "outputs": [],
   "source": [
    "%timeit pl_compiled(queries)"
   ]
  },
  {
   "cell_type": "markdown",
   "metadata": {},
   "source": [
    "## Custom transformers\n",
    "\n",
    "PyTerrier makes it easy for you to implement your own custom transformers. In fact, we've used a custom query transformer under the hood for the scaffolding project.\n",
    "\n",
    "### `apply` functions\n",
    "\n",
    "[`pyterrier.apply`](https://pyterrier.readthedocs.io/en/latest/apply.html) allows for applying a custom function to each row of a data frame. There are many `apply` functions, each of which focuses on different data types. An overview can be found [here](https://pyterrier.readthedocs.io/en/latest/apply.html#module-pyterrier.apply).\n",
    "\n",
    "Let's implement one that reformulates the query to sound a bit nicer:\n"
   ]
  },
  {
   "cell_type": "code",
   "execution_count": null,
   "metadata": {},
   "outputs": [],
   "source": [
    "ask_nicely = pt.apply.query(\n",
    "    lambda row: \"please find some information about \" + row[\"query\"]\n",
    ")\n",
    "ask_nicely(queries)"
   ]
  },
  {
   "cell_type": "markdown",
   "metadata": {},
   "source": [
    "### Extending `pyterrier.Transformer`\n",
    "\n",
    "More complex transformers can be implemented by extending the base class directly.\n",
    "\n",
    "Here, we implement a transformer that naively corrects supposed spelling mistakes using a spell checking library. In order to do this, we only need to implement the `transform` method. We adapt the behavior of the other query rewriters and retain the original formulation in the `query_0` column:\n"
   ]
  },
  {
   "cell_type": "code",
   "execution_count": 27,
   "metadata": {},
   "outputs": [],
   "source": [
    "import pandas as pd\n",
    "from spellchecker import SpellChecker\n",
    "\n",
    "\n",
    "class CorrectQuerySpelling(pt.Transformer):\n",
    "    def __init__(self):\n",
    "        self.spellchecker = SpellChecker()\n",
    "        super().__init__()\n",
    "\n",
    "    def _correct_spelling(self, query: str) -> str:\n",
    "        result = []\n",
    "        for word in query.split(\" \"):\n",
    "            if len(self.spellchecker.unknown([word])) > 0:\n",
    "                result.append(self.spellchecker.correction(word) or word)\n",
    "            else:\n",
    "                result.append(word)\n",
    "        return \" \".join(result)\n",
    "\n",
    "    def transform(self, df: pd.DataFrame) -> pd.DataFrame:\n",
    "        df_new = df.copy()\n",
    "        df_new[\"query_0\"] = df_new[\"query\"]\n",
    "        df_new[\"query\"] = df_new[\"query_0\"].map(self._correct_spelling)\n",
    "        return df_new"
   ]
  },
  {
   "cell_type": "markdown",
   "metadata": {},
   "source": [
    "Let's give it a try:\n"
   ]
  },
  {
   "cell_type": "code",
   "execution_count": null,
   "metadata": {},
   "outputs": [],
   "source": [
    "correct_query_spelling = CorrectQuerySpelling()\n",
    "correct_query_spelling(queries)"
   ]
  },
  {
   "cell_type": "markdown",
   "metadata": {},
   "source": [
    "## Further reading\n",
    "\n",
    "Check out the sections about the [data model](https://pyterrier.readthedocs.io/en/latest/datamodel.html) and [transformers](https://pyterrier.readthedocs.io/en/latest/transformer.html) in the PyTerrier documentation.\n"
   ]
  }
 ],
 "metadata": {
  "kernelspec": {
   "display_name": "pt",
   "language": "python",
   "name": "python3"
  },
  "language_info": {
   "codemirror_mode": {
    "name": "ipython",
    "version": 3
   },
   "file_extension": ".py",
   "mimetype": "text/x-python",
   "name": "python",
   "nbconvert_exporter": "python",
   "pygments_lexer": "ipython3",
   "version": "3.11.7"
  }
 },
 "nbformat": 4,
 "nbformat_minor": 2
}
